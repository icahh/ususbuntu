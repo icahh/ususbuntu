{
 "cells": [
  {
   "cell_type": "markdown",
   "metadata": {},
   "source": [
    "# **OLAH DATA HEART DISEASE**"
   ]
  },
  {
   "cell_type": "markdown",
   "metadata": {},
   "source": [
    "**IMPORT DATA AWAL**"
   ]
  },
  {
   "cell_type": "code",
   "execution_count": 1,
   "metadata": {},
   "outputs": [
    {
     "data": {
      "text/html": [
       "<div>\n",
       "<style scoped>\n",
       "    .dataframe tbody tr th:only-of-type {\n",
       "        vertical-align: middle;\n",
       "    }\n",
       "\n",
       "    .dataframe tbody tr th {\n",
       "        vertical-align: top;\n",
       "    }\n",
       "\n",
       "    .dataframe thead th {\n",
       "        text-align: right;\n",
       "    }\n",
       "</style>\n",
       "<table border=\"1\" class=\"dataframe\">\n",
       "  <thead>\n",
       "    <tr style=\"text-align: right;\">\n",
       "      <th></th>\n",
       "      <th>Age</th>\n",
       "      <th>Sex</th>\n",
       "      <th>ChestPainType</th>\n",
       "      <th>RestingBP</th>\n",
       "      <th>Cholesterol</th>\n",
       "      <th>FastingBS</th>\n",
       "      <th>RestingECG</th>\n",
       "      <th>MaxHR</th>\n",
       "      <th>ExerciseAngina</th>\n",
       "      <th>Oldpeak</th>\n",
       "      <th>ST_Slope</th>\n",
       "      <th>Target</th>\n",
       "    </tr>\n",
       "  </thead>\n",
       "  <tbody>\n",
       "    <tr>\n",
       "      <th>0</th>\n",
       "      <td>40</td>\n",
       "      <td>M</td>\n",
       "      <td>ATA</td>\n",
       "      <td>140</td>\n",
       "      <td>289</td>\n",
       "      <td>0</td>\n",
       "      <td>Normal</td>\n",
       "      <td>172</td>\n",
       "      <td>N</td>\n",
       "      <td>0.0</td>\n",
       "      <td>Up</td>\n",
       "      <td>0</td>\n",
       "    </tr>\n",
       "    <tr>\n",
       "      <th>1</th>\n",
       "      <td>37</td>\n",
       "      <td>M</td>\n",
       "      <td>ATA</td>\n",
       "      <td>130</td>\n",
       "      <td>283</td>\n",
       "      <td>0</td>\n",
       "      <td>ST</td>\n",
       "      <td>98</td>\n",
       "      <td>N</td>\n",
       "      <td>0.0</td>\n",
       "      <td>Up</td>\n",
       "      <td>0</td>\n",
       "    </tr>\n",
       "    <tr>\n",
       "      <th>2</th>\n",
       "      <td>54</td>\n",
       "      <td>M</td>\n",
       "      <td>NAP</td>\n",
       "      <td>150</td>\n",
       "      <td>195</td>\n",
       "      <td>0</td>\n",
       "      <td>Normal</td>\n",
       "      <td>122</td>\n",
       "      <td>N</td>\n",
       "      <td>0.0</td>\n",
       "      <td>Up</td>\n",
       "      <td>0</td>\n",
       "    </tr>\n",
       "    <tr>\n",
       "      <th>3</th>\n",
       "      <td>39</td>\n",
       "      <td>M</td>\n",
       "      <td>NAP</td>\n",
       "      <td>120</td>\n",
       "      <td>339</td>\n",
       "      <td>0</td>\n",
       "      <td>Normal</td>\n",
       "      <td>170</td>\n",
       "      <td>N</td>\n",
       "      <td>0.0</td>\n",
       "      <td>Up</td>\n",
       "      <td>0</td>\n",
       "    </tr>\n",
       "    <tr>\n",
       "      <th>4</th>\n",
       "      <td>45</td>\n",
       "      <td>F</td>\n",
       "      <td>ATA</td>\n",
       "      <td>130</td>\n",
       "      <td>237</td>\n",
       "      <td>0</td>\n",
       "      <td>Normal</td>\n",
       "      <td>170</td>\n",
       "      <td>N</td>\n",
       "      <td>0.0</td>\n",
       "      <td>Up</td>\n",
       "      <td>0</td>\n",
       "    </tr>\n",
       "    <tr>\n",
       "      <th>...</th>\n",
       "      <td>...</td>\n",
       "      <td>...</td>\n",
       "      <td>...</td>\n",
       "      <td>...</td>\n",
       "      <td>...</td>\n",
       "      <td>...</td>\n",
       "      <td>...</td>\n",
       "      <td>...</td>\n",
       "      <td>...</td>\n",
       "      <td>...</td>\n",
       "      <td>...</td>\n",
       "      <td>...</td>\n",
       "    </tr>\n",
       "    <tr>\n",
       "      <th>913</th>\n",
       "      <td>57</td>\n",
       "      <td>F</td>\n",
       "      <td>ASY</td>\n",
       "      <td>140</td>\n",
       "      <td>241</td>\n",
       "      <td>0</td>\n",
       "      <td>Normal</td>\n",
       "      <td>123</td>\n",
       "      <td>Y</td>\n",
       "      <td>0.2</td>\n",
       "      <td>Flat</td>\n",
       "      <td>1</td>\n",
       "    </tr>\n",
       "    <tr>\n",
       "      <th>914</th>\n",
       "      <td>45</td>\n",
       "      <td>M</td>\n",
       "      <td>TA</td>\n",
       "      <td>110</td>\n",
       "      <td>264</td>\n",
       "      <td>0</td>\n",
       "      <td>Normal</td>\n",
       "      <td>132</td>\n",
       "      <td>N</td>\n",
       "      <td>1.2</td>\n",
       "      <td>Flat</td>\n",
       "      <td>1</td>\n",
       "    </tr>\n",
       "    <tr>\n",
       "      <th>915</th>\n",
       "      <td>68</td>\n",
       "      <td>M</td>\n",
       "      <td>ASY</td>\n",
       "      <td>144</td>\n",
       "      <td>193</td>\n",
       "      <td>1</td>\n",
       "      <td>Normal</td>\n",
       "      <td>141</td>\n",
       "      <td>N</td>\n",
       "      <td>3.4</td>\n",
       "      <td>Flat</td>\n",
       "      <td>1</td>\n",
       "    </tr>\n",
       "    <tr>\n",
       "      <th>916</th>\n",
       "      <td>57</td>\n",
       "      <td>M</td>\n",
       "      <td>ASY</td>\n",
       "      <td>130</td>\n",
       "      <td>131</td>\n",
       "      <td>0</td>\n",
       "      <td>Normal</td>\n",
       "      <td>115</td>\n",
       "      <td>Y</td>\n",
       "      <td>1.2</td>\n",
       "      <td>Flat</td>\n",
       "      <td>1</td>\n",
       "    </tr>\n",
       "    <tr>\n",
       "      <th>917</th>\n",
       "      <td>57</td>\n",
       "      <td>F</td>\n",
       "      <td>ATA</td>\n",
       "      <td>130</td>\n",
       "      <td>236</td>\n",
       "      <td>0</td>\n",
       "      <td>LVH</td>\n",
       "      <td>174</td>\n",
       "      <td>N</td>\n",
       "      <td>0.0</td>\n",
       "      <td>Flat</td>\n",
       "      <td>1</td>\n",
       "    </tr>\n",
       "  </tbody>\n",
       "</table>\n",
       "<p>918 rows × 12 columns</p>\n",
       "</div>"
      ],
      "text/plain": [
       "     Age Sex ChestPainType  RestingBP  Cholesterol  FastingBS RestingECG  \\\n",
       "0     40   M           ATA        140          289          0     Normal   \n",
       "1     37   M           ATA        130          283          0         ST   \n",
       "2     54   M           NAP        150          195          0     Normal   \n",
       "3     39   M           NAP        120          339          0     Normal   \n",
       "4     45   F           ATA        130          237          0     Normal   \n",
       "..   ...  ..           ...        ...          ...        ...        ...   \n",
       "913   57   F           ASY        140          241          0     Normal   \n",
       "914   45   M            TA        110          264          0     Normal   \n",
       "915   68   M           ASY        144          193          1     Normal   \n",
       "916   57   M           ASY        130          131          0     Normal   \n",
       "917   57   F           ATA        130          236          0        LVH   \n",
       "\n",
       "     MaxHR ExerciseAngina  Oldpeak ST_Slope  Target  \n",
       "0      172              N      0.0       Up       0  \n",
       "1       98              N      0.0       Up       0  \n",
       "2      122              N      0.0       Up       0  \n",
       "3      170              N      0.0       Up       0  \n",
       "4      170              N      0.0       Up       0  \n",
       "..     ...            ...      ...      ...     ...  \n",
       "913    123              Y      0.2     Flat       1  \n",
       "914    132              N      1.2     Flat       1  \n",
       "915    141              N      3.4     Flat       1  \n",
       "916    115              Y      1.2     Flat       1  \n",
       "917    174              N      0.0     Flat       1  \n",
       "\n",
       "[918 rows x 12 columns]"
      ]
     },
     "execution_count": 1,
     "metadata": {},
     "output_type": "execute_result"
    }
   ],
   "source": [
    "import pandas as pd  # Import library pandas lalu inisialisasikan sebagai pd\n",
    "import numpy as np  # Import library numpy kemudian inisialisasikan sebagai np\n",
    "import matplotlib.pyplot as plt\n",
    "import seaborn as sns\n",
    "from sklearn.preprocessing import LabelEncoder\n",
    "from sklearn.model_selection import train_test_split\n",
    "\n",
    "HeartDisease = pd.read_csv('DataAwalSort.csv')  # Input data\n",
    "HeartDisease  # Menampilkan data"
   ]
  },
  {
   "cell_type": "markdown",
   "metadata": {},
   "source": [
    "**PREPROCESSING**"
   ]
  },
  {
   "cell_type": "code",
   "execution_count": 2,
   "metadata": {},
   "outputs": [
    {
     "name": "stdout",
     "output_type": "stream",
     "text": [
      "1    508\n",
      "0    410\n",
      "Name: Target, dtype: int64\n"
     ]
    },
    {
     "data": {
      "image/png": "[encoded data removed]",
      "text/plain": [
       "<Figure size 640x480 with 1 Axes>"
      ]
     },
     "metadata": {},
     "output_type": "display_data"
    },
    {
     "name": "stdout",
     "output_type": "stream",
     "text": [
      "Persentase pasien tidak memiliki penyakit jantung: 44.66%\n",
      "Persentase pasien memiliki penyakit jantung: 55.34%\n"
     ]
    }
   ],
   "source": [
    "print(HeartDisease.Target.value_counts())\n",
    "plt.title('Tingkat Penyakit Jantung')\n",
    "sns.countplot(x=\"Target\", data=HeartDisease)\n",
    "plt.show()\n",
    "countNoDisease = len(HeartDisease[HeartDisease.Target == 0])\n",
    "countHaveDisease = len(HeartDisease[HeartDisease.Target == 1])\n",
    "print(\"Persentase pasien tidak memiliki penyakit jantung: {:.2f}%\".format((countNoDisease / (len(HeartDisease.Target))*100)))\n",
    "print(\"Persentase pasien memiliki penyakit jantung: {:.2f}%\".format((countHaveDisease / (len(HeartDisease.Target))*100)))"
   ]
  },
  {
   "cell_type": "markdown",
   "metadata": {},
   "source": [
    "**CEK OUTLIER**"
   ]
  },
  {
   "cell_type": "code",
   "execution_count": 3,
   "metadata": {},
   "outputs": [
    {
     "name": "stdout",
     "output_type": "stream",
     "text": [
      "Q1:  47.0\n",
      "Q2 :  54.0\n",
      "Q3:  60.0\n",
      "IQR :  13.0\n",
      "Data min :  28\n",
      "Data max :  77\n",
      "IQR min : 27.5\n",
      "IQR max :  79.5\n",
      "Tidak ditemukan low outlier!\n",
      "Tidak ditemukan high outlier!\n",
      "Low outlier :  []\n",
      "High outlier :  []\n",
      "Shape awal atribut Age  :  (918,)\n",
      "Shape akhir atribut Age :  (918, 12)\n"
     ]
    }
   ],
   "source": [
    "Q1Age = HeartDisease['Age'].quantile(.25) \n",
    "Q2Age = np.median(HeartDisease['Age'])\n",
    "Q3Age = HeartDisease['Age'].quantile(.75)\n",
    "IQRAge = Q3Age - Q1Age\n",
    "print(\"Q1: \", Q1Age)\n",
    "print(\"Q2 : \", Q2Age)\n",
    "print(\"Q3: \", Q3Age)\n",
    "print(\"IQR : \", IQRAge) \n",
    "# Menghitung nilai min dan max dari data \n",
    "nilai_minAge = np.min(HeartDisease['Age'])\n",
    "nilai_maxAge = np.max(HeartDisease['Age'])\n",
    "print(\"Data min : \", nilai_minAge)\n",
    "print(\"Data max : \", nilai_maxAge)\n",
    "# Hitung IQR minimum dan maksmim\n",
    "min_IQRAge = Q1Age - 1.5 * IQRAge\n",
    "max_IQRAge = Q3Age + 1.5 * IQRAge \n",
    "print(\"IQR min :\", min_IQRAge)\n",
    "print(\"IQR max : \",max_IQRAge)\n",
    "#Outlier\n",
    "if (nilai_minAge < min_IQRAge):\n",
    "    print('Ditemukan low outlier!')\n",
    "else:\n",
    "    print('Tidak ditemukan low outlier!')  \n",
    "if (nilai_maxAge > max_IQRAge):\n",
    "    print('Ditemukan high outlier!')\n",
    "else:\n",
    "    print('Tidak ditemukan high outlier!')\n",
    "low_out = []\n",
    "high_out = []\n",
    "for i in HeartDisease['Age']:\n",
    "    if (i < min_IQRAge):\n",
    "        low_out.append(i)\n",
    "    if (i > max_IQRAge):\n",
    "        high_out.append(i)\n",
    "print('Low outlier : ', low_out)\n",
    "print('High outlier : ', high_out)\n",
    "\n",
    "#Cek uk baris dan kolom sebelum data yang outlier dibuang\n",
    "print(\"Shape awal atribut Age  : \", HeartDisease['Age'].shape)\n",
    "HeartDiseaseAge = HeartDisease[~((HeartDisease['Age'] < (Q1Age - 1.5 * IQRAge)) | (HeartDisease['Age'] > (Q3Age + 1.5 * IQRAge)))]\n",
    "#cek uk setelah data dibuang\n",
    "print('Shape akhir atribut Age : ', HeartDiseaseAge.shape)"
   ]
  },
  {
   "cell_type": "code",
   "execution_count": 4,
   "metadata": {},
   "outputs": [
    {
     "name": "stdout",
     "output_type": "stream",
     "text": [
      "20.0\n",
      "Shape awal atribut RestingBP  :  (918,)\n",
      "Shape akhir atribut RestingBP :  (890, 12)\n"
     ]
    }
   ],
   "source": [
    "# Cek IQR\n",
    "Q1rbp = HeartDisease['RestingBP'].quantile(0.25)\n",
    "Q3rbp = HeartDisease['RestingBP'].quantile(0.75)\n",
    "IQrbp = Q3rbp - Q1rbp\n",
    "print(IQrbp)\n",
    "#Cek uk baris dan kolom sebelum data yang outlier dibuang\n",
    "print(\"Shape awal atribut RestingBP  : \", HeartDisease['RestingBP'].shape)\n",
    "#removing outlier\n",
    "HeartDiseaseRBP = HeartDiseaseAge[~((HeartDiseaseAge['RestingBP'] < (Q1rbp - 1.5 * IQrbp)) | (HeartDiseaseAge['RestingBP'] > (Q3rbp+ 1.5 * IQrbp)))]\n",
    "#cek uk setelah data dibuang\n",
    "print('Shape akhir atribut RestingBP : ', HeartDiseaseRBP.shape)"
   ]
  },
  {
   "cell_type": "code",
   "execution_count": 5,
   "metadata": {},
   "outputs": [
    {
     "name": "stdout",
     "output_type": "stream",
     "text": [
      "93.75\n",
      "Shape awal atribut Cholesterol  :  (918,)\n",
      "Shape akhir atribut Cholesterol :  (715, 12)\n"
     ]
    }
   ],
   "source": [
    "# Cek IQR\n",
    "Q1Cholesterol = HeartDisease['Cholesterol'].quantile(0.25)\n",
    "Q3Cholesterol = HeartDisease['Cholesterol'].quantile(0.75)\n",
    "IQRCholesterol = Q3Cholesterol - Q1Cholesterol\n",
    "print(IQRCholesterol)\n",
    "#Cek uk baris dan kolom sebelum data yang outlier dibuang\n",
    "print(\"Shape awal atribut Cholesterol  : \", HeartDisease['Cholesterol'].shape)\n",
    "#removing outlier\n",
    "HeartDiseaseCholesterol = HeartDiseaseRBP[~((HeartDiseaseRBP['Cholesterol'] < (Q1Cholesterol  - 1.5 * IQRCholesterol)) | (HeartDiseaseRBP['Cholesterol'] > (Q3Cholesterol + 1.5 * IQRCholesterol)))]\n",
    "#cek uk setelah data dibuang\n",
    "print('Shape akhir atribut Cholesterol : ', HeartDiseaseCholesterol.shape)"
   ]
  },
  {
   "cell_type": "code",
   "execution_count": 6,
   "metadata": {},
   "outputs": [
    {
     "name": "stdout",
     "output_type": "stream",
     "text": [
      "36.0\n",
      "Shape awal atribut MaxHR  :  (918,)\n",
      "Shape akhir atribut MaxHR :  (715, 12)\n"
     ]
    }
   ],
   "source": [
    "# Cek IQR\n",
    "Q1MaxHR = HeartDisease['MaxHR'].quantile(0.25)\n",
    "Q3MaxHR = HeartDisease['MaxHR'].quantile(0.75)\n",
    "IQRMaxHR = Q3MaxHR - Q1MaxHR\n",
    "print(IQRMaxHR)\n",
    "#Cek uk baris dan kolom sebelum data yang outlier dibuang\n",
    "print(\"Shape awal atribut MaxHR  : \", HeartDisease['MaxHR'].shape)\n",
    "#removing outlier\n",
    "HeartDiseaseMaxHR = HeartDiseaseCholesterol[~((HeartDiseaseCholesterol['MaxHR'] < (Q1MaxHR  - 1.5 * IQRMaxHR)) | (HeartDiseaseCholesterol['MaxHR'] > (Q3MaxHR + 1.5 * IQRMaxHR)))]\n",
    "#cek uk setelah data dibuang\n",
    "print('Shape akhir atribut MaxHR : ', HeartDiseaseMaxHR.shape)"
   ]
  },
  {
   "cell_type": "code",
   "execution_count": 7,
   "metadata": {},
   "outputs": [
    {
     "name": "stdout",
     "output_type": "stream",
     "text": [
      "1.5\n",
      "Shape awal atribut Oldpeak  :  (918,)\n",
      "Shape akhir atribut Oldpeak :  (702, 12)\n"
     ]
    }
   ],
   "source": [
    "# Cek IQR\n",
    "Q1Oldpeak = HeartDisease['Oldpeak'].quantile(0.25)\n",
    "Q3Oldpeak = HeartDisease['Oldpeak'].quantile(0.75)\n",
    "IQROldpeak = Q3Oldpeak - Q1Oldpeak\n",
    "print(IQROldpeak)\n",
    "#Cek uk baris dan kolom sebelum data yang outlier dibuang\n",
    "print(\"Shape awal atribut Oldpeak  : \", HeartDisease['Oldpeak'].shape)\n",
    "#removing outlier\n",
    "HeartDiseaseOldpeak = HeartDiseaseMaxHR[~((HeartDiseaseMaxHR['Oldpeak'] < (Q1Oldpeak - 1.5 * IQROldpeak)) | (HeartDiseaseMaxHR['Oldpeak'] > (Q3Oldpeak + 1.5 * IQROldpeak)))]\n",
    "#cek uk setelah data dibuang\n",
    "print('Shape akhir atribut Oldpeak : ', HeartDiseaseOldpeak.shape)"
   ]
  },
  {
   "cell_type": "code",
   "execution_count": 8,
   "metadata": {},
   "outputs": [
    {
     "data": {
      "text/plain": [
       "False"
      ]
     },
     "execution_count": 8,
     "metadata": {},
     "output_type": "execute_result"
    }
   ],
   "source": [
    "#Mengecek apakah ada data yang kosong? Jika False artinya tidak terdapat data yang kosong \n",
    "HeartDisease.empty"
   ]
  },
  {
   "cell_type": "markdown",
   "metadata": {},
   "source": [
    "**CEK MISSING VALUE**"
   ]
  },
  {
   "cell_type": "code",
   "execution_count": 9,
   "metadata": {},
   "outputs": [
    {
     "data": {
      "text/html": [
       "<div>\n",
       "<style scoped>\n",
       "    .dataframe tbody tr th:only-of-type {\n",
       "        vertical-align: middle;\n",
       "    }\n",
       "\n",
       "    .dataframe tbody tr th {\n",
       "        vertical-align: top;\n",
       "    }\n",
       "\n",
       "    .dataframe thead th {\n",
       "        text-align: right;\n",
       "    }\n",
       "</style>\n",
       "<table border=\"1\" class=\"dataframe\">\n",
       "  <thead>\n",
       "    <tr style=\"text-align: right;\">\n",
       "      <th></th>\n",
       "      <th>Age</th>\n",
       "      <th>Sex</th>\n",
       "      <th>ChestPainType</th>\n",
       "      <th>RestingBP</th>\n",
       "      <th>Cholesterol</th>\n",
       "      <th>FastingBS</th>\n",
       "      <th>RestingECG</th>\n",
       "      <th>MaxHR</th>\n",
       "      <th>ExerciseAngina</th>\n",
       "      <th>Oldpeak</th>\n",
       "      <th>ST_Slope</th>\n",
       "      <th>Target</th>\n",
       "    </tr>\n",
       "  </thead>\n",
       "  <tbody>\n",
       "    <tr>\n",
       "      <th>0</th>\n",
       "      <td>True</td>\n",
       "      <td>True</td>\n",
       "      <td>True</td>\n",
       "      <td>True</td>\n",
       "      <td>True</td>\n",
       "      <td>True</td>\n",
       "      <td>True</td>\n",
       "      <td>True</td>\n",
       "      <td>True</td>\n",
       "      <td>True</td>\n",
       "      <td>True</td>\n",
       "      <td>True</td>\n",
       "    </tr>\n",
       "    <tr>\n",
       "      <th>1</th>\n",
       "      <td>True</td>\n",
       "      <td>True</td>\n",
       "      <td>True</td>\n",
       "      <td>True</td>\n",
       "      <td>True</td>\n",
       "      <td>True</td>\n",
       "      <td>True</td>\n",
       "      <td>True</td>\n",
       "      <td>True</td>\n",
       "      <td>True</td>\n",
       "      <td>True</td>\n",
       "      <td>True</td>\n",
       "    </tr>\n",
       "    <tr>\n",
       "      <th>2</th>\n",
       "      <td>True</td>\n",
       "      <td>True</td>\n",
       "      <td>True</td>\n",
       "      <td>True</td>\n",
       "      <td>True</td>\n",
       "      <td>True</td>\n",
       "      <td>True</td>\n",
       "      <td>True</td>\n",
       "      <td>True</td>\n",
       "      <td>True</td>\n",
       "      <td>True</td>\n",
       "      <td>True</td>\n",
       "    </tr>\n",
       "    <tr>\n",
       "      <th>3</th>\n",
       "      <td>True</td>\n",
       "      <td>True</td>\n",
       "      <td>True</td>\n",
       "      <td>True</td>\n",
       "      <td>True</td>\n",
       "      <td>True</td>\n",
       "      <td>True</td>\n",
       "      <td>True</td>\n",
       "      <td>True</td>\n",
       "      <td>True</td>\n",
       "      <td>True</td>\n",
       "      <td>True</td>\n",
       "    </tr>\n",
       "    <tr>\n",
       "      <th>4</th>\n",
       "      <td>True</td>\n",
       "      <td>True</td>\n",
       "      <td>True</td>\n",
       "      <td>True</td>\n",
       "      <td>True</td>\n",
       "      <td>True</td>\n",
       "      <td>True</td>\n",
       "      <td>True</td>\n",
       "      <td>True</td>\n",
       "      <td>True</td>\n",
       "      <td>True</td>\n",
       "      <td>True</td>\n",
       "    </tr>\n",
       "    <tr>\n",
       "      <th>...</th>\n",
       "      <td>...</td>\n",
       "      <td>...</td>\n",
       "      <td>...</td>\n",
       "      <td>...</td>\n",
       "      <td>...</td>\n",
       "      <td>...</td>\n",
       "      <td>...</td>\n",
       "      <td>...</td>\n",
       "      <td>...</td>\n",
       "      <td>...</td>\n",
       "      <td>...</td>\n",
       "      <td>...</td>\n",
       "    </tr>\n",
       "    <tr>\n",
       "      <th>913</th>\n",
       "      <td>True</td>\n",
       "      <td>True</td>\n",
       "      <td>True</td>\n",
       "      <td>True</td>\n",
       "      <td>True</td>\n",
       "      <td>True</td>\n",
       "      <td>True</td>\n",
       "      <td>True</td>\n",
       "      <td>True</td>\n",
       "      <td>True</td>\n",
       "      <td>True</td>\n",
       "      <td>True</td>\n",
       "    </tr>\n",
       "    <tr>\n",
       "      <th>914</th>\n",
       "      <td>True</td>\n",
       "      <td>True</td>\n",
       "      <td>True</td>\n",
       "      <td>True</td>\n",
       "      <td>True</td>\n",
       "      <td>True</td>\n",
       "      <td>True</td>\n",
       "      <td>True</td>\n",
       "      <td>True</td>\n",
       "      <td>True</td>\n",
       "      <td>True</td>\n",
       "      <td>True</td>\n",
       "    </tr>\n",
       "    <tr>\n",
       "      <th>915</th>\n",
       "      <td>True</td>\n",
       "      <td>True</td>\n",
       "      <td>True</td>\n",
       "      <td>True</td>\n",
       "      <td>True</td>\n",
       "      <td>True</td>\n",
       "      <td>True</td>\n",
       "      <td>True</td>\n",
       "      <td>True</td>\n",
       "      <td>True</td>\n",
       "      <td>True</td>\n",
       "      <td>True</td>\n",
       "    </tr>\n",
       "    <tr>\n",
       "      <th>916</th>\n",
       "      <td>True</td>\n",
       "      <td>True</td>\n",
       "      <td>True</td>\n",
       "      <td>True</td>\n",
       "      <td>True</td>\n",
       "      <td>True</td>\n",
       "      <td>True</td>\n",
       "      <td>True</td>\n",
       "      <td>True</td>\n",
       "      <td>True</td>\n",
       "      <td>True</td>\n",
       "      <td>True</td>\n",
       "    </tr>\n",
       "    <tr>\n",
       "      <th>917</th>\n",
       "      <td>True</td>\n",
       "      <td>True</td>\n",
       "      <td>True</td>\n",
       "      <td>True</td>\n",
       "      <td>True</td>\n",
       "      <td>True</td>\n",
       "      <td>True</td>\n",
       "      <td>True</td>\n",
       "      <td>True</td>\n",
       "      <td>True</td>\n",
       "      <td>True</td>\n",
       "      <td>True</td>\n",
       "    </tr>\n",
       "  </tbody>\n",
       "</table>\n",
       "<p>918 rows × 12 columns</p>\n",
       "</div>"
      ],
      "text/plain": [
       "      Age   Sex  ChestPainType  RestingBP  Cholesterol  FastingBS  RestingECG  \\\n",
       "0    True  True           True       True         True       True        True   \n",
       "1    True  True           True       True         True       True        True   \n",
       "2    True  True           True       True         True       True        True   \n",
       "3    True  True           True       True         True       True        True   \n",
       "4    True  True           True       True         True       True        True   \n",
       "..    ...   ...            ...        ...          ...        ...         ...   \n",
       "913  True  True           True       True         True       True        True   \n",
       "914  True  True           True       True         True       True        True   \n",
       "915  True  True           True       True         True       True        True   \n",
       "916  True  True           True       True         True       True        True   \n",
       "917  True  True           True       True         True       True        True   \n",
       "\n",
       "     MaxHR  ExerciseAngina  Oldpeak  ST_Slope  Target  \n",
       "0     True            True     True      True    True  \n",
       "1     True            True     True      True    True  \n",
       "2     True            True     True      True    True  \n",
       "3     True            True     True      True    True  \n",
       "4     True            True     True      True    True  \n",
       "..     ...             ...      ...       ...     ...  \n",
       "913   True            True     True      True    True  \n",
       "914   True            True     True      True    True  \n",
       "915   True            True     True      True    True  \n",
       "916   True            True     True      True    True  \n",
       "917   True            True     True      True    True  \n",
       "\n",
       "[918 rows x 12 columns]"
      ]
     },
     "execution_count": 9,
     "metadata": {},
     "output_type": "execute_result"
    }
   ],
   "source": [
    "HeartDisease.isna() #berfungsi pengecekan apakah ada missing value\n",
    "HeartDisease.notna() #berfungsi pengecekan tidak adanya missing value"
   ]
  },
  {
   "cell_type": "code",
   "execution_count": 10,
   "metadata": {},
   "outputs": [
    {
     "data": {
      "text/plain": [
       "Age               0\n",
       "Sex               0\n",
       "ChestPainType     0\n",
       "RestingBP         0\n",
       "Cholesterol       0\n",
       "FastingBS         0\n",
       "RestingECG        0\n",
       "MaxHR             0\n",
       "ExerciseAngina    0\n",
       "Oldpeak           0\n",
       "ST_Slope          0\n",
       "Target            0\n",
       "dtype: int64"
      ]
     },
     "execution_count": 10,
     "metadata": {},
     "output_type": "execute_result"
    }
   ],
   "source": [
    "HeartDisease.isna().sum() #melihat jumlah data yang terdapat missing value pada tiap atribut"
   ]
  },
  {
   "cell_type": "markdown",
   "metadata": {},
   "source": [
    "**MENAMPILKAN INFORMASI KETERANGAN DATA PADA TIAP ATRIBUT**"
   ]
  },
  {
   "cell_type": "code",
   "execution_count": 11,
   "metadata": {},
   "outputs": [
    {
     "name": "stdout",
     "output_type": "stream",
     "text": [
      "<class 'pandas.core.frame.DataFrame'>\n",
      "RangeIndex: 918 entries, 0 to 917\n",
      "Data columns (total 12 columns):\n",
      " #   Column          Non-Null Count  Dtype  \n",
      "---  ------          --------------  -----  \n",
      " 0   Age             918 non-null    int64  \n",
      " 1   Sex             918 non-null    object \n",
      " 2   ChestPainType   918 non-null    object \n",
      " 3   RestingBP       918 non-null    int64  \n",
      " 4   Cholesterol     918 non-null    int64  \n",
      " 5   FastingBS       918 non-null    int64  \n",
      " 6   RestingECG      918 non-null    object \n",
      " 7   MaxHR           918 non-null    int64  \n",
      " 8   ExerciseAngina  918 non-null    object \n",
      " 9   Oldpeak         918 non-null    float64\n",
      " 10  ST_Slope        918 non-null    object \n",
      " 11  Target          918 non-null    int64  \n",
      "dtypes: float64(1), int64(6), object(5)\n",
      "memory usage: 86.2+ KB\n"
     ]
    }
   ],
   "source": [
    "HeartDisease.info()"
   ]
  },
  {
   "cell_type": "markdown",
   "metadata": {},
   "source": [
    "**TRANSFORMASI DATA CATEGORIAL / OBJECT**"
   ]
  },
  {
   "cell_type": "code",
   "execution_count": 12,
   "metadata": {},
   "outputs": [],
   "source": [
    "HeartDisease['Sex'] = HeartDisease['Sex'].astype('category')\n",
    "HeartDisease['Sex'] = HeartDisease['Sex'].cat.codes\n",
    "\n",
    "HeartDisease['ChestPainType'] = HeartDisease['ChestPainType'].astype('category')\n",
    "HeartDisease['ChestPainType'] = HeartDisease['ChestPainType'].cat.codes\n",
    "\n",
    "HeartDisease['FastingBS'] = HeartDisease['FastingBS'].astype('category')\n",
    "HeartDisease['FastingBS'] = HeartDisease['FastingBS'].cat.codes\n",
    "\n",
    "HeartDisease['RestingECG'] = HeartDisease['RestingECG'].astype('category')\n",
    "HeartDisease['RestingECG'] = HeartDisease['RestingECG'].cat.codes\n",
    "\n",
    "HeartDisease['ExerciseAngina'] = HeartDisease['ExerciseAngina'].astype('category')\n",
    "HeartDisease['ExerciseAngina'] = HeartDisease['ExerciseAngina'].cat.codes\n",
    "\n",
    "HeartDisease['ST_Slope'] = HeartDisease['ST_Slope'].astype('category')\n",
    "HeartDisease['ST_Slope'] = HeartDisease['ST_Slope'].cat.codes\n",
    "\n",
    "HeartDisease['Target'] = HeartDisease['Target'].astype('category')\n",
    "HeartDisease['Target'] = HeartDisease['Target'].cat.codes"
   ]
  },
  {
   "cell_type": "markdown",
   "metadata": {},
   "source": [
    "**NORMALISASI DATA NUMERIK / INTEGER**"
   ]
  },
  {
   "cell_type": "code",
   "execution_count": 13,
   "metadata": {},
   "outputs": [
    {
     "data": {
      "text/html": [
       "<div>\n",
       "<style scoped>\n",
       "    .dataframe tbody tr th:only-of-type {\n",
       "        vertical-align: middle;\n",
       "    }\n",
       "\n",
       "    .dataframe tbody tr th {\n",
       "        vertical-align: top;\n",
       "    }\n",
       "\n",
       "    .dataframe thead th {\n",
       "        text-align: right;\n",
       "    }\n",
       "</style>\n",
       "<table border=\"1\" class=\"dataframe\">\n",
       "  <thead>\n",
       "    <tr style=\"text-align: right;\">\n",
       "      <th></th>\n",
       "      <th>Age</th>\n",
       "      <th>RestingBP</th>\n",
       "      <th>Cholesterol</th>\n",
       "      <th>MaxHR</th>\n",
       "      <th>Oldpeak</th>\n",
       "    </tr>\n",
       "  </thead>\n",
       "  <tbody>\n",
       "    <tr>\n",
       "      <th>0</th>\n",
       "      <td>0.244898</td>\n",
       "      <td>0.70</td>\n",
       "      <td>0.479270</td>\n",
       "      <td>0.788732</td>\n",
       "      <td>0.295455</td>\n",
       "    </tr>\n",
       "    <tr>\n",
       "      <th>1</th>\n",
       "      <td>0.183673</td>\n",
       "      <td>0.65</td>\n",
       "      <td>0.469320</td>\n",
       "      <td>0.267606</td>\n",
       "      <td>0.295455</td>\n",
       "    </tr>\n",
       "    <tr>\n",
       "      <th>2</th>\n",
       "      <td>0.530612</td>\n",
       "      <td>0.75</td>\n",
       "      <td>0.323383</td>\n",
       "      <td>0.436620</td>\n",
       "      <td>0.295455</td>\n",
       "    </tr>\n",
       "    <tr>\n",
       "      <th>3</th>\n",
       "      <td>0.224490</td>\n",
       "      <td>0.60</td>\n",
       "      <td>0.562189</td>\n",
       "      <td>0.774648</td>\n",
       "      <td>0.295455</td>\n",
       "    </tr>\n",
       "    <tr>\n",
       "      <th>4</th>\n",
       "      <td>0.346939</td>\n",
       "      <td>0.65</td>\n",
       "      <td>0.393035</td>\n",
       "      <td>0.774648</td>\n",
       "      <td>0.295455</td>\n",
       "    </tr>\n",
       "    <tr>\n",
       "      <th>...</th>\n",
       "      <td>...</td>\n",
       "      <td>...</td>\n",
       "      <td>...</td>\n",
       "      <td>...</td>\n",
       "      <td>...</td>\n",
       "    </tr>\n",
       "    <tr>\n",
       "      <th>913</th>\n",
       "      <td>0.591837</td>\n",
       "      <td>0.70</td>\n",
       "      <td>0.399668</td>\n",
       "      <td>0.443662</td>\n",
       "      <td>0.318182</td>\n",
       "    </tr>\n",
       "    <tr>\n",
       "      <th>914</th>\n",
       "      <td>0.346939</td>\n",
       "      <td>0.55</td>\n",
       "      <td>0.437811</td>\n",
       "      <td>0.507042</td>\n",
       "      <td>0.431818</td>\n",
       "    </tr>\n",
       "    <tr>\n",
       "      <th>915</th>\n",
       "      <td>0.816327</td>\n",
       "      <td>0.72</td>\n",
       "      <td>0.320066</td>\n",
       "      <td>0.570423</td>\n",
       "      <td>0.681818</td>\n",
       "    </tr>\n",
       "    <tr>\n",
       "      <th>916</th>\n",
       "      <td>0.591837</td>\n",
       "      <td>0.65</td>\n",
       "      <td>0.217247</td>\n",
       "      <td>0.387324</td>\n",
       "      <td>0.431818</td>\n",
       "    </tr>\n",
       "    <tr>\n",
       "      <th>917</th>\n",
       "      <td>0.591837</td>\n",
       "      <td>0.65</td>\n",
       "      <td>0.391376</td>\n",
       "      <td>0.802817</td>\n",
       "      <td>0.295455</td>\n",
       "    </tr>\n",
       "  </tbody>\n",
       "</table>\n",
       "<p>918 rows × 5 columns</p>\n",
       "</div>"
      ],
      "text/plain": [
       "          Age  RestingBP  Cholesterol     MaxHR   Oldpeak\n",
       "0    0.244898       0.70     0.479270  0.788732  0.295455\n",
       "1    0.183673       0.65     0.469320  0.267606  0.295455\n",
       "2    0.530612       0.75     0.323383  0.436620  0.295455\n",
       "3    0.224490       0.60     0.562189  0.774648  0.295455\n",
       "4    0.346939       0.65     0.393035  0.774648  0.295455\n",
       "..        ...        ...          ...       ...       ...\n",
       "913  0.591837       0.70     0.399668  0.443662  0.318182\n",
       "914  0.346939       0.55     0.437811  0.507042  0.431818\n",
       "915  0.816327       0.72     0.320066  0.570423  0.681818\n",
       "916  0.591837       0.65     0.217247  0.387324  0.431818\n",
       "917  0.591837       0.65     0.391376  0.802817  0.295455\n",
       "\n",
       "[918 rows x 5 columns]"
      ]
     },
     "execution_count": 13,
     "metadata": {},
     "output_type": "execute_result"
    }
   ],
   "source": [
    "def MINMAX(x, XminB, XmaxB):\n",
    "  min=np.min(x)\n",
    "  max=np.max(x)\n",
    "\n",
    "  for a in x:\n",
    "    XB = ((x-min)/(max-min))*(XmaxB+XminB)\n",
    "    return XB\n",
    "\n",
    "cols_to_norm = ['Age', 'RestingBP', 'Cholesterol', 'MaxHR','Oldpeak']\n",
    "HeartDisease[cols_to_norm] = HeartDisease[cols_to_norm].apply(lambda x: MINMAX(x,0,1))\n",
    "HeartDisease[cols_to_norm]"
   ]
  },
  {
   "cell_type": "markdown",
   "metadata": {},
   "source": [
    "**MENAMPILKAN DATA HEART DISEASE SETELAH MELAKUKAN TRANSFORMASI DAN NORMALISASI**"
   ]
  },
  {
   "cell_type": "code",
   "execution_count": 14,
   "metadata": {},
   "outputs": [
    {
     "data": {
      "text/html": [
       "<div>\n",
       "<style scoped>\n",
       "    .dataframe tbody tr th:only-of-type {\n",
       "        vertical-align: middle;\n",
       "    }\n",
       "\n",
       "    .dataframe tbody tr th {\n",
       "        vertical-align: top;\n",
       "    }\n",
       "\n",
       "    .dataframe thead th {\n",
       "        text-align: right;\n",
       "    }\n",
       "</style>\n",
       "<table border=\"1\" class=\"dataframe\">\n",
       "  <thead>\n",
       "    <tr style=\"text-align: right;\">\n",
       "      <th></th>\n",
       "      <th>Age</th>\n",
       "      <th>Sex</th>\n",
       "      <th>ChestPainType</th>\n",
       "      <th>RestingBP</th>\n",
       "      <th>Cholesterol</th>\n",
       "      <th>FastingBS</th>\n",
       "      <th>RestingECG</th>\n",
       "      <th>MaxHR</th>\n",
       "      <th>ExerciseAngina</th>\n",
       "      <th>Oldpeak</th>\n",
       "      <th>ST_Slope</th>\n",
       "      <th>Target</th>\n",
       "    </tr>\n",
       "  </thead>\n",
       "  <tbody>\n",
       "    <tr>\n",
       "      <th>0</th>\n",
       "      <td>0.244898</td>\n",
       "      <td>1</td>\n",
       "      <td>1</td>\n",
       "      <td>0.70</td>\n",
       "      <td>0.479270</td>\n",
       "      <td>0</td>\n",
       "      <td>1</td>\n",
       "      <td>0.788732</td>\n",
       "      <td>0</td>\n",
       "      <td>0.295455</td>\n",
       "      <td>2</td>\n",
       "      <td>0</td>\n",
       "    </tr>\n",
       "    <tr>\n",
       "      <th>1</th>\n",
       "      <td>0.183673</td>\n",
       "      <td>1</td>\n",
       "      <td>1</td>\n",
       "      <td>0.65</td>\n",
       "      <td>0.469320</td>\n",
       "      <td>0</td>\n",
       "      <td>2</td>\n",
       "      <td>0.267606</td>\n",
       "      <td>0</td>\n",
       "      <td>0.295455</td>\n",
       "      <td>2</td>\n",
       "      <td>0</td>\n",
       "    </tr>\n",
       "    <tr>\n",
       "      <th>2</th>\n",
       "      <td>0.530612</td>\n",
       "      <td>1</td>\n",
       "      <td>2</td>\n",
       "      <td>0.75</td>\n",
       "      <td>0.323383</td>\n",
       "      <td>0</td>\n",
       "      <td>1</td>\n",
       "      <td>0.436620</td>\n",
       "      <td>0</td>\n",
       "      <td>0.295455</td>\n",
       "      <td>2</td>\n",
       "      <td>0</td>\n",
       "    </tr>\n",
       "    <tr>\n",
       "      <th>3</th>\n",
       "      <td>0.224490</td>\n",
       "      <td>1</td>\n",
       "      <td>2</td>\n",
       "      <td>0.60</td>\n",
       "      <td>0.562189</td>\n",
       "      <td>0</td>\n",
       "      <td>1</td>\n",
       "      <td>0.774648</td>\n",
       "      <td>0</td>\n",
       "      <td>0.295455</td>\n",
       "      <td>2</td>\n",
       "      <td>0</td>\n",
       "    </tr>\n",
       "    <tr>\n",
       "      <th>4</th>\n",
       "      <td>0.346939</td>\n",
       "      <td>0</td>\n",
       "      <td>1</td>\n",
       "      <td>0.65</td>\n",
       "      <td>0.393035</td>\n",
       "      <td>0</td>\n",
       "      <td>1</td>\n",
       "      <td>0.774648</td>\n",
       "      <td>0</td>\n",
       "      <td>0.295455</td>\n",
       "      <td>2</td>\n",
       "      <td>0</td>\n",
       "    </tr>\n",
       "    <tr>\n",
       "      <th>...</th>\n",
       "      <td>...</td>\n",
       "      <td>...</td>\n",
       "      <td>...</td>\n",
       "      <td>...</td>\n",
       "      <td>...</td>\n",
       "      <td>...</td>\n",
       "      <td>...</td>\n",
       "      <td>...</td>\n",
       "      <td>...</td>\n",
       "      <td>...</td>\n",
       "      <td>...</td>\n",
       "      <td>...</td>\n",
       "    </tr>\n",
       "    <tr>\n",
       "      <th>913</th>\n",
       "      <td>0.591837</td>\n",
       "      <td>0</td>\n",
       "      <td>0</td>\n",
       "      <td>0.70</td>\n",
       "      <td>0.399668</td>\n",
       "      <td>0</td>\n",
       "      <td>1</td>\n",
       "      <td>0.443662</td>\n",
       "      <td>1</td>\n",
       "      <td>0.318182</td>\n",
       "      <td>1</td>\n",
       "      <td>1</td>\n",
       "    </tr>\n",
       "    <tr>\n",
       "      <th>914</th>\n",
       "      <td>0.346939</td>\n",
       "      <td>1</td>\n",
       "      <td>3</td>\n",
       "      <td>0.55</td>\n",
       "      <td>0.437811</td>\n",
       "      <td>0</td>\n",
       "      <td>1</td>\n",
       "      <td>0.507042</td>\n",
       "      <td>0</td>\n",
       "      <td>0.431818</td>\n",
       "      <td>1</td>\n",
       "      <td>1</td>\n",
       "    </tr>\n",
       "    <tr>\n",
       "      <th>915</th>\n",
       "      <td>0.816327</td>\n",
       "      <td>1</td>\n",
       "      <td>0</td>\n",
       "      <td>0.72</td>\n",
       "      <td>0.320066</td>\n",
       "      <td>1</td>\n",
       "      <td>1</td>\n",
       "      <td>0.570423</td>\n",
       "      <td>0</td>\n",
       "      <td>0.681818</td>\n",
       "      <td>1</td>\n",
       "      <td>1</td>\n",
       "    </tr>\n",
       "    <tr>\n",
       "      <th>916</th>\n",
       "      <td>0.591837</td>\n",
       "      <td>1</td>\n",
       "      <td>0</td>\n",
       "      <td>0.65</td>\n",
       "      <td>0.217247</td>\n",
       "      <td>0</td>\n",
       "      <td>1</td>\n",
       "      <td>0.387324</td>\n",
       "      <td>1</td>\n",
       "      <td>0.431818</td>\n",
       "      <td>1</td>\n",
       "      <td>1</td>\n",
       "    </tr>\n",
       "    <tr>\n",
       "      <th>917</th>\n",
       "      <td>0.591837</td>\n",
       "      <td>0</td>\n",
       "      <td>1</td>\n",
       "      <td>0.65</td>\n",
       "      <td>0.391376</td>\n",
       "      <td>0</td>\n",
       "      <td>0</td>\n",
       "      <td>0.802817</td>\n",
       "      <td>0</td>\n",
       "      <td>0.295455</td>\n",
       "      <td>1</td>\n",
       "      <td>1</td>\n",
       "    </tr>\n",
       "  </tbody>\n",
       "</table>\n",
       "<p>918 rows × 12 columns</p>\n",
       "</div>"
      ],
      "text/plain": [
       "          Age  Sex  ChestPainType  RestingBP  Cholesterol  FastingBS  \\\n",
       "0    0.244898    1              1       0.70     0.479270          0   \n",
       "1    0.183673    1              1       0.65     0.469320          0   \n",
       "2    0.530612    1              2       0.75     0.323383          0   \n",
       "3    0.224490    1              2       0.60     0.562189          0   \n",
       "4    0.346939    0              1       0.65     0.393035          0   \n",
       "..        ...  ...            ...        ...          ...        ...   \n",
       "913  0.591837    0              0       0.70     0.399668          0   \n",
       "914  0.346939    1              3       0.55     0.437811          0   \n",
       "915  0.816327    1              0       0.72     0.320066          1   \n",
       "916  0.591837    1              0       0.65     0.217247          0   \n",
       "917  0.591837    0              1       0.65     0.391376          0   \n",
       "\n",
       "     RestingECG     MaxHR  ExerciseAngina   Oldpeak  ST_Slope  Target  \n",
       "0             1  0.788732               0  0.295455         2       0  \n",
       "1             2  0.267606               0  0.295455         2       0  \n",
       "2             1  0.436620               0  0.295455         2       0  \n",
       "3             1  0.774648               0  0.295455         2       0  \n",
       "4             1  0.774648               0  0.295455         2       0  \n",
       "..          ...       ...             ...       ...       ...     ...  \n",
       "913           1  0.443662               1  0.318182         1       1  \n",
       "914           1  0.507042               0  0.431818         1       1  \n",
       "915           1  0.570423               0  0.681818         1       1  \n",
       "916           1  0.387324               1  0.431818         1       1  \n",
       "917           0  0.802817               0  0.295455         1       1  \n",
       "\n",
       "[918 rows x 12 columns]"
      ]
     },
     "execution_count": 14,
     "metadata": {},
     "output_type": "execute_result"
    }
   ],
   "source": [
    "HeartDisease"
   ]
  },
  {
   "cell_type": "markdown",
   "metadata": {},
   "source": [
    "**EXPORT DATA YANG TELAH DIOLAH**"
   ]
  },
  {
   "cell_type": "code",
   "execution_count": 15,
   "metadata": {},
   "outputs": [],
   "source": [
    "# HeartDisease.to_csv('DataAwalSort.csv', index=False)"
   ]
  },
  {
   "cell_type": "markdown",
   "metadata": {},
   "source": [
    "**R-SQUARE**"
   ]
  },
  {
   "cell_type": "code",
   "execution_count": 16,
   "metadata": {},
   "outputs": [
    {
     "data": {
      "text/plain": [
       "Age                477.938776\n",
       "Sex                725.000000\n",
       "ChestPainType      717.000000\n",
       "RestingBP          607.700000\n",
       "Cholesterol        302.650083\n",
       "FastingBS          214.000000\n",
       "RestingECG         908.000000\n",
       "MaxHR              496.556338\n",
       "ExerciseAngina     371.000000\n",
       "Oldpeak            363.795455\n",
       "ST_Slope          1250.000000\n",
       "Target             508.000000\n",
       "dtype: float64"
      ]
     },
     "execution_count": 16,
     "metadata": {},
     "output_type": "execute_result"
    }
   ],
   "source": [
    "HeartDisease.sum()"
   ]
  },
  {
   "cell_type": "code",
   "execution_count": 17,
   "metadata": {},
   "outputs": [],
   "source": [
    "from cmath import sqrt\n",
    "\n",
    "# yy = HeartDisease['Target']\n",
    "# yy\n",
    "# # y = HeartDisease['Target'].sum()\n",
    "# # y2 = (HeartDisease['Target'] * HeartDisease['Target']).sum()\n",
    "# # x_Age = HeartDisease['Age']\n",
    "\n",
    "# # xy_Age = (x_Age * yy).sum()\n",
    "# # xAge = HeartDisease['Age'].sum()\n",
    "# # x2_Age = (HeartDisease['Age'] * HeartDisease['Age']).sum()\n",
    "\n",
    "# # r1_Age = 918 * xy_Age - xAge * y\n",
    "# # r2_Age = (918 * x2_Age - (xAge * xAge))\n",
    "# # r3_Age = (918 * y2 - (y * y))\n",
    "# # r4_Age = sqrt(r2_Age) * sqrt(r3_Age)\n",
    "# # r_age = r1_Age / r4_Age\n",
    "# # R_age = r_age * r_age\n",
    "\n",
    "# # --------------------------------------------------------------------------\n",
    "# x_sex = HeartDisease['Sex']\n",
    "# xy_Sex = (x_sex * yy).sum()\n",
    "# xSex = HeartDisease['Sex'].sum()\n",
    "# x2_Sex = (HeartDisease['Sex'] * HeartDisease['Sex']).sum()\n",
    "\n",
    "# r1_Sex = 918 * xy_Sex - xSex * y\n",
    "# r2_Sex = (918 * x2_Sex - (xSex * xSex))\n",
    "# r3_Sex = (918 * y2 - (y * y))\n",
    "# r4_Sex = sqrt(r2_Sex) * sqrt(r3_Sex)\n",
    "# r_Sex = r1_Sex / r4_Sex\n",
    "# R_sex = r_Sex * r_Sex\n",
    "\n",
    "# # -----------------------------------------------------------------------------\n",
    "# x_cpt = HeartDisease['ChestPainType']\n",
    "# xy_cpt = (x_cpt * yy).sum()\n",
    "# xCPT = HeartDisease['ChestPainType'].sum()\n",
    "# x2_cpt = (HeartDisease['ChestPainType'] * HeartDisease['ChestPainType']).sum()\n",
    "\n",
    "# r1_cpt = 918 * xy_cpt - xCPT * y\n",
    "# r2_cpt = (918 * x2_cpt - (xCPT * xCPT))\n",
    "# r3_cpt = (918 * y2 - (y * y))\n",
    "# r4_cpt = sqrt(r2_cpt) * sqrt(r3_cpt)\n",
    "# r_cpt = r1_cpt / r4_cpt\n",
    "# R_cpt = r_cpt * r_cpt\n",
    "\n",
    "# #------------------------------------------------------------------------------\n",
    "# x_rbp = HeartDisease['RestingBP']\n",
    "# xy_rbp = (x_rbp * yy).sum()\n",
    "# xRBP = HeartDisease['RestingBP'].sum()\n",
    "# x2_rbp = (HeartDisease['RestingBP'] * HeartDisease['RestingBP']).sum()\n",
    "\n",
    "# r1_rbp = 918 * xy_rbp - xRBP * y\n",
    "# r2_rbp = 918 * x2_rbp - xRBP * xRBP\n",
    "# r3_rbp = 918 * y2 - y * y\n",
    "# r4_rbp = sqrt(r2_rbp) * sqrt(r3_rbp)\n",
    "# r_rbp = r1_rbp / r4_rbp\n",
    "# R_rbp = r_rbp * r_rbp\n",
    "\n",
    "# #-----------------------------------------------------------------------------\n",
    "# x_chl = HeartDisease['Cholesterol']\n",
    "# xy_chl = (x_chl * yy).sum()\n",
    "# xCHL = HeartDisease['Cholesterol'].sum()\n",
    "# x2_chl = (HeartDisease['Cholesterol'] * HeartDisease['Cholesterol']).sum()\n",
    "\n",
    "# r1_chl = 918 * xy_chl - xCHL * y\n",
    "# r2_chl = 918 * x2_chl - xCHL * xCHL\n",
    "# r3_chl = 918 * y2 - y * y\n",
    "# r4_chl = sqrt(r2_chl) * sqrt(r3_chl)\n",
    "# r_chl = r1_chl / r4_chl\n",
    "# R_chl = r_chl * r_chl\n",
    "\n",
    "# #-----------------------------------------------------------------------------\n",
    "# x_fbs = HeartDisease['FastingBS']\n",
    "# xy_fbs = (x_fbs * yy).sum()\n",
    "# xFBS = HeartDisease['FastingBS'].sum()\n",
    "# x2_fbs = (HeartDisease['FastingBS'] * HeartDisease['FastingBS']).sum()\n",
    "\n",
    "# r1_fbs = 918 * xy_fbs - xFBS * y\n",
    "# r2_fbs = 918 * x2_fbs - xFBS * xFBS\n",
    "# r3_fbs = 918 * y2 - y * y\n",
    "# r4_fbs = sqrt(r2_fbs) * sqrt(r3_fbs)\n",
    "# r_fbs = r1_fbs / r4_fbs\n",
    "# R_fbs = r_fbs * r_fbs\n",
    "\n",
    "# #-----------------------------------------------------------------------------\n",
    "# x_recg = HeartDisease['RestingECG']\n",
    "# xy_recg = (x_recg * yy).sum()\n",
    "# xRECG = HeartDisease['RestingECG'].sum()\n",
    "# x2_recg = (HeartDisease['RestingECG'] * HeartDisease['RestingECG']).sum()\n",
    "\n",
    "# r1_recg = 918 * xy_recg - xRECG * y\n",
    "# r2_recg = 918 * x2_recg - xRECG * xRECG\n",
    "# r3_recg = 918 * y2 - y * y\n",
    "# r4_recg = sqrt(r2_recg) * sqrt(r3_recg)\n",
    "# r_recg = r1_recg / r4_recg\n",
    "# R_recg = r_recg * r_recg\n",
    "\n",
    "# #-----------------------------------------------------------------------------\n",
    "# x_mhr = HeartDisease['MaxHR']\n",
    "# xy_mhr = (x_mhr * yy).sum()\n",
    "# xMaxHR = HeartDisease['MaxHR'].sum()\n",
    "# x2_mhr = (HeartDisease['MaxHR'] * HeartDisease['MaxHR']).sum()\n",
    "\n",
    "# r1_mhr = 918 * xy_mhr - xMaxHR * y\n",
    "# r2_mhr = 918 * x2_mhr - xMaxHR * xMaxHR\n",
    "# r3_mhr = 918 * y2 - y * y\n",
    "# r4_mhr = sqrt(r2_mhr) * sqrt(r3_mhr)\n",
    "# r_mhr = r1_mhr / r4_mhr\n",
    "# R_mhr = r_mhr * r_mhr\n",
    "\n",
    "# #-----------------------------------------------------------------------------\n",
    "# x_ea = HeartDisease['ExerciseAngina']\n",
    "# xy_ea = (x_ea * yy).sum()\n",
    "# xEA = HeartDisease['ExerciseAngina'].sum()\n",
    "# x2_ea = (HeartDisease['ExerciseAngina'] * HeartDisease['ExerciseAngina']).sum()\n",
    "\n",
    "# r1_ea = 918 * xy_ea - xEA * y\n",
    "# r2_ea = 918 * x2_ea - xEA * xEA\n",
    "# r3_ea = 918 * y2 - y * y\n",
    "# r4_ea = sqrt(r2_ea) * sqrt(r3_ea)\n",
    "# r_ea = r1_ea / r4_ea\n",
    "# R_ea = r_ea * r_ea\n",
    "\n",
    "# #-----------------------------------------------------------------------------\n",
    "# x_op = HeartDisease['Oldpeak']\n",
    "# xy_op = (x_op * yy).sum()\n",
    "# xOP = HeartDisease['Oldpeak'].sum()\n",
    "# x2_op = (HeartDisease['Oldpeak'] * HeartDisease['Oldpeak']).sum()\n",
    "\n",
    "# r1_op = 918 * xy_op - xOP * y\n",
    "# r2_op = 918 * x2_op - xOP * xOP\n",
    "# r3_op = 918 * y2 - y * y\n",
    "# r4_op = sqrt(r2_op) * sqrt(r3_op)\n",
    "# r_op = r1_op / r4_op\n",
    "# R_op = r_op * r_op\n",
    "\n",
    "# # ----------------------------------------------------------------------------\n",
    "# x_st = HeartDisease['ST_Slope']\n",
    "# xy_st = (x_st * yy).sum()\n",
    "# xST = HeartDisease['ST_Slope'].sum()\n",
    "# x2_st = (HeartDisease['ST_Slope'] * HeartDisease['ST_Slope']).sum()\n",
    "\n",
    "# r1_st = 918 * xy_st - xST * y\n",
    "# r2_st = 918 * x2_st - xST * xST\n",
    "# r3_st = 918 * y2 - y * y\n",
    "# r3_st\n",
    "# # r4_st = sqrt(r2_st) * sqrt(r3_st)\n",
    "# # r_st = r1_st / r4_st\n",
    "# # R_st = r_st * r_st\n",
    "\n",
    "\n",
    "# #-----------------------------------------------------------\n",
    "# print(\"Nilai Korelasi R-Square atribut Age           : \",R_age)\n",
    "# print(\"Nilai Korelasi R-Square atribut Sex           : \", R_sex)\n",
    "# print(\"Nilai Korelasi R-Square atribut ChestPainType : \", R_cpt)\n",
    "# print(\"Nilai Korelasi R-Square atribut RestingBP     : \", R_rbp)\n",
    "# print(\"Nilai Korelasi R-Square atribut Cholesterol   : \", R_chl)\n",
    "# print(\"Nilai Korelasi R-Square atribut FastingBS     : \", R_fbs)\n",
    "# print(\"Nilai Korelasi R-Square atribut RestingECG    : \", R_recg)\n",
    "# print(\"Nilai Korelasi R-Square atribut MaxHR         : \", R_mhr)\n",
    "# print(\"Nilai Korelasi R-Square atribut ExerciseAngina: \", R_ea)\n",
    "# print(\"Nilai Korelasi R-Square atribut Oldpeak       : \", R_op)\n",
    "# print(\"Nilai Korelasi R-Square atribut ST_Slope      : \", R_st)\n",
    "# dt = {'dataage' :R_age, 'datasex' :R_sex, 'datacpt' :R_cpt, 'datarbp' :R_rbp, 'datachl' :R_chl, 'datafbs' :R_fbs, 'datarecg' :R_recg, 'datamhr' :R_mhr, 'dataea' :R_ea, 'dataop' :R_op, 'datast' :R_st}\n",
    "# print(dt)"
   ]
  },
  {
   "cell_type": "code",
   "execution_count": 18,
   "metadata": {},
   "outputs": [
    {
     "ename": "NameError",
     "evalue": "name 'R_age' is not defined",
     "output_type": "error",
     "traceback": [
      "\u001b[1;31m---------------------------------------------------------------------------\u001b[0m",
      "\u001b[1;31mNameError\u001b[0m                                 Traceback (most recent call last)",
      "Cell \u001b[1;32mIn [18], line 1\u001b[0m\n\u001b[1;32m----> 1\u001b[0m result_dt \u001b[39m=\u001b[39m {\u001b[39m'\u001b[39m\u001b[39mAge\u001b[39m\u001b[39m'\u001b[39m:R_age, \u001b[39m'\u001b[39m\u001b[39mSex\u001b[39m\u001b[39m'\u001b[39m:R_sex, \u001b[39m'\u001b[39m\u001b[39mChestPainType\u001b[39m\u001b[39m'\u001b[39m:R_cpt, \u001b[39m'\u001b[39m\u001b[39mRestingBP\u001b[39m\u001b[39m'\u001b[39m:R_rbp, \u001b[39m'\u001b[39m\u001b[39mCholesterol\u001b[39m\u001b[39m'\u001b[39m:R_chl, \u001b[39m'\u001b[39m\u001b[39mFastingBS\u001b[39m\u001b[39m'\u001b[39m:R_fbs, \u001b[39m'\u001b[39m\u001b[39mRestingECG\u001b[39m\u001b[39m'\u001b[39m:R_recg, \u001b[39m'\u001b[39m\u001b[39mMaxHR\u001b[39m\u001b[39m'\u001b[39m:R_mhr, \u001b[39m'\u001b[39m\u001b[39mExerciseAngina\u001b[39m\u001b[39m'\u001b[39m:R_ea, \u001b[39m'\u001b[39m\u001b[39mOldpeak\u001b[39m\u001b[39m'\u001b[39m:R_op, \u001b[39m'\u001b[39m\u001b[39mST_Slope\u001b[39m\u001b[39m'\u001b[39m:R_st}\n",
      "\u001b[1;31mNameError\u001b[0m: name 'R_age' is not defined"
     ]
    }
   ],
   "source": [
    "result_dt = {'Age':R_age, 'Sex':R_sex, 'ChestPainType':R_cpt, 'RestingBP':R_rbp, 'Cholesterol':R_chl, 'FastingBS':R_fbs, 'RestingECG':R_recg, 'MaxHR':R_mhr, 'ExerciseAngina':R_ea, 'Oldpeak':R_op, 'ST_Slope':R_st}"
   ]
  },
  {
   "cell_type": "code",
   "execution_count": null,
   "metadata": {},
   "outputs": [],
   "source": [
    "# import operator\n",
    "# dt = dict(sorted(dt.items(), key=operator.itemgetter(1)))\n",
    "# print(dt)"
   ]
  },
  {
   "cell_type": "code",
   "execution_count": null,
   "metadata": {},
   "outputs": [],
   "source": [
    "# dt = pd.DataFrame(dt, index=[0])\n",
    "# dt.head()"
   ]
  },
  {
   "cell_type": "markdown",
   "metadata": {},
   "source": [
    "**PROBABILITAS CORRELATED NAIVE BAYES** "
   ]
  },
  {
   "cell_type": "markdown",
   "metadata": {},
   "source": [
    "**NORMALISASI DATA NUMERIK MENJADI DUA DESIMAL / DUA DIBELAKANG KOMA**"
   ]
  },
  {
   "cell_type": "markdown",
   "metadata": {},
   "source": [
    "Normalisasi diubah menjadi dua angka dibelakang koma agar pada saat perhitungan probabilitas correlated naive bayes data yang dihitung tidak memiliki banyak jumlah."
   ]
  },
  {
   "cell_type": "code",
   "execution_count": null,
   "metadata": {},
   "outputs": [],
   "source": [
    "# def MINMAX(x, XminB, XmaxB):\n",
    "#   min=np.min(x)\n",
    "#   max=np.max(x)\n",
    "\n",
    "#   for a in x:\n",
    "#     XB = ((x-min)/(max-min))*(XmaxB+XminB)\n",
    "#     return XB\n",
    "\n",
    "# cols_to_norm = ['Age', 'RestingBP', 'Cholesterol', 'MaxHR','Oldpeak']\n",
    "# HeartDisease[cols_to_norm] = (round(HeartDisease[cols_to_norm].apply(lambda x: MINMAX(x,0,1)), 2))\n",
    "# HeartDisease[cols_to_norm]"
   ]
  },
  {
   "cell_type": "markdown",
   "metadata": {},
   "source": [
    "**MENAMPILKAN DATA TIAP ATRIBUT PADA LABEL YANG TIDAK TERINFEKSI PENYAKIT JANTUNG**"
   ]
  },
  {
   "cell_type": "code",
   "execution_count": null,
   "metadata": {},
   "outputs": [
    {
     "name": "stdout",
     "output_type": "stream",
     "text": [
      "          Age  Sex  ChestPainType  RestingBP  Cholesterol  FastingBS  \\\n",
      "0    0.244898    1              1       0.70     0.479270          0   \n",
      "1    0.183673    1              1       0.65     0.469320          0   \n",
      "2    0.530612    1              2       0.75     0.323383          0   \n",
      "3    0.224490    1              2       0.60     0.562189          0   \n",
      "4    0.346939    0              1       0.65     0.393035          0   \n",
      "..        ...  ...            ...        ...          ...        ...   \n",
      "405  0.571429    1              1       0.65     0.366501          0   \n",
      "406  0.571429    1              1       0.60     0.398010          0   \n",
      "407  0.551020    0              1       0.66     0.567164          0   \n",
      "408  0.265306    1              1       0.60     0.260365          0   \n",
      "409  0.204082    1              2       0.69     0.290216          0   \n",
      "\n",
      "     RestingECG     MaxHR  ExerciseAngina   Oldpeak  ST_Slope  Target  \n",
      "0             1  0.788732               0  0.295455         2       0  \n",
      "1             2  0.267606               0  0.295455         2       0  \n",
      "2             1  0.436620               0  0.295455         2       0  \n",
      "3             1  0.774648               0  0.295455         2       0  \n",
      "4             1  0.774648               0  0.295455         2       0  \n",
      "..          ...       ...             ...       ...       ...     ...  \n",
      "405           0  0.725352               0  0.295455         2       0  \n",
      "406           1  0.767606               0  0.295455         0       0  \n",
      "407           1  0.746479               0  0.431818         2       0  \n",
      "408           1  0.859155               0  0.295455         2       0  \n",
      "409           1  0.795775               0  0.295455         2       0  \n",
      "\n",
      "[410 rows x 12 columns]\n"
     ]
    }
   ],
   "source": [
    "df_notInfected = HeartDisease[HeartDisease['Target'] == 0]\n",
    "print(df_notInfected)"
   ]
  },
  {
   "cell_type": "markdown",
   "metadata": {},
   "source": [
    "**MENAMPILKAN DATA TIAP ATRIBUT PADA LABEL YANG TERINFEKSI PENYAKIT JANTUNG**"
   ]
  },
  {
   "cell_type": "code",
   "execution_count": null,
   "metadata": {},
   "outputs": [
    {
     "name": "stdout",
     "output_type": "stream",
     "text": [
      "          Age  Sex  ChestPainType  RestingBP  Cholesterol  FastingBS  \\\n",
      "410  0.428571    0              2       0.80     0.298507          0   \n",
      "411  0.408163    0              0       0.69     0.354892          0   \n",
      "412  0.183673    1              0       0.70     0.343284          0   \n",
      "413  0.612245    1              1       0.68     0.271973          0   \n",
      "414  0.428571    1              0       0.70     0.388060          0   \n",
      "..        ...  ...            ...        ...          ...        ...   \n",
      "913  0.591837    0              0       0.70     0.399668          0   \n",
      "914  0.346939    1              3       0.55     0.437811          0   \n",
      "915  0.816327    1              0       0.72     0.320066          1   \n",
      "916  0.591837    1              0       0.65     0.217247          0   \n",
      "917  0.591837    0              1       0.65     0.391376          0   \n",
      "\n",
      "     RestingECG     MaxHR  ExerciseAngina   Oldpeak  ST_Slope  Target  \n",
      "410           1  0.676056               0  0.409091         1       1  \n",
      "411           1  0.338028               1  0.465909         1       1  \n",
      "412           1  0.492958               1  0.465909         1       1  \n",
      "413           2  0.274648               1  0.522727         1       1  \n",
      "414           1  0.563380               1  0.409091         1       1  \n",
      "..          ...       ...             ...       ...       ...     ...  \n",
      "913           1  0.443662               1  0.318182         1       1  \n",
      "914           1  0.507042               0  0.431818         1       1  \n",
      "915           1  0.570423               0  0.681818         1       1  \n",
      "916           1  0.387324               1  0.431818         1       1  \n",
      "917           0  0.802817               0  0.295455         1       1  \n",
      "\n",
      "[508 rows x 12 columns]\n"
     ]
    }
   ],
   "source": [
    "# to select rows whose coloumn equals a scala\n",
    "df_infected = HeartDisease[HeartDisease['Target'] == 1]\n",
    "print(df_infected)"
   ]
  },
  {
   "cell_type": "code",
   "execution_count": null,
   "metadata": {},
   "outputs": [
    {
     "ename": "KeyError",
     "evalue": "'Target'",
     "output_type": "error",
     "traceback": [
      "\u001b[1;31m---------------------------------------------------------------------------\u001b[0m",
      "\u001b[1;31mKeyError\u001b[0m                                  Traceback (most recent call last)",
      "File \u001b[1;32m~\\AppData\\Local\\Packages\\PythonSoftwareFoundation.Python.3.10_qbz5n2kfra8p0\\LocalCache\\local-packages\\Python310\\site-packages\\pandas\\core\\indexes\\base.py:3803\u001b[0m, in \u001b[0;36mIndex.get_loc\u001b[1;34m(self, key, method, tolerance)\u001b[0m\n\u001b[0;32m   3802\u001b[0m \u001b[39mtry\u001b[39;00m:\n\u001b[1;32m-> 3803\u001b[0m     \u001b[39mreturn\u001b[39;00m \u001b[39mself\u001b[39;49m\u001b[39m.\u001b[39;49m_engine\u001b[39m.\u001b[39;49mget_loc(casted_key)\n\u001b[0;32m   3804\u001b[0m \u001b[39mexcept\u001b[39;00m \u001b[39mKeyError\u001b[39;00m \u001b[39mas\u001b[39;00m err:\n",
      "File \u001b[1;32m~\\AppData\\Local\\Packages\\PythonSoftwareFoundation.Python.3.10_qbz5n2kfra8p0\\LocalCache\\local-packages\\Python310\\site-packages\\pandas\\_libs\\index.pyx:138\u001b[0m, in \u001b[0;36mpandas._libs.index.IndexEngine.get_loc\u001b[1;34m()\u001b[0m\n",
      "File \u001b[1;32m~\\AppData\\Local\\Packages\\PythonSoftwareFoundation.Python.3.10_qbz5n2kfra8p0\\LocalCache\\local-packages\\Python310\\site-packages\\pandas\\_libs\\index.pyx:165\u001b[0m, in \u001b[0;36mpandas._libs.index.IndexEngine.get_loc\u001b[1;34m()\u001b[0m\n",
      "File \u001b[1;32mpandas\\_libs\\hashtable_class_helper.pxi:5745\u001b[0m, in \u001b[0;36mpandas._libs.hashtable.PyObjectHashTable.get_item\u001b[1;34m()\u001b[0m\n",
      "File \u001b[1;32mpandas\\_libs\\hashtable_class_helper.pxi:5753\u001b[0m, in \u001b[0;36mpandas._libs.hashtable.PyObjectHashTable.get_item\u001b[1;34m()\u001b[0m\n",
      "\u001b[1;31mKeyError\u001b[0m: 'Target'",
      "\nThe above exception was the direct cause of the following exception:\n",
      "\u001b[1;31mKeyError\u001b[0m                                  Traceback (most recent call last)",
      "Cell \u001b[1;32mIn [2520], line 1\u001b[0m\n\u001b[1;32m----> 1\u001b[0m yy \u001b[39m=\u001b[39m df_infected[\u001b[39m'\u001b[39;49m\u001b[39mTarget\u001b[39;49m\u001b[39m'\u001b[39;49m]\n\u001b[0;32m      2\u001b[0m y \u001b[39m=\u001b[39m df_infected[\u001b[39m'\u001b[39m\u001b[39mTarget\u001b[39m\u001b[39m'\u001b[39m]\u001b[39m.\u001b[39msum()\n\u001b[0;32m      3\u001b[0m y2 \u001b[39m=\u001b[39m (df_infected[\u001b[39m'\u001b[39m\u001b[39mTarget\u001b[39m\u001b[39m'\u001b[39m] \u001b[39m*\u001b[39m df_infected[\u001b[39m'\u001b[39m\u001b[39mTarget\u001b[39m\u001b[39m'\u001b[39m])\u001b[39m.\u001b[39msum()\n",
      "File \u001b[1;32m~\\AppData\\Local\\Packages\\PythonSoftwareFoundation.Python.3.10_qbz5n2kfra8p0\\LocalCache\\local-packages\\Python310\\site-packages\\pandas\\core\\frame.py:3804\u001b[0m, in \u001b[0;36mDataFrame.__getitem__\u001b[1;34m(self, key)\u001b[0m\n\u001b[0;32m   3802\u001b[0m \u001b[39mif\u001b[39;00m \u001b[39mself\u001b[39m\u001b[39m.\u001b[39mcolumns\u001b[39m.\u001b[39mnlevels \u001b[39m>\u001b[39m \u001b[39m1\u001b[39m:\n\u001b[0;32m   3803\u001b[0m     \u001b[39mreturn\u001b[39;00m \u001b[39mself\u001b[39m\u001b[39m.\u001b[39m_getitem_multilevel(key)\n\u001b[1;32m-> 3804\u001b[0m indexer \u001b[39m=\u001b[39m \u001b[39mself\u001b[39;49m\u001b[39m.\u001b[39;49mcolumns\u001b[39m.\u001b[39;49mget_loc(key)\n\u001b[0;32m   3805\u001b[0m \u001b[39mif\u001b[39;00m is_integer(indexer):\n\u001b[0;32m   3806\u001b[0m     indexer \u001b[39m=\u001b[39m [indexer]\n",
      "File \u001b[1;32m~\\AppData\\Local\\Packages\\PythonSoftwareFoundation.Python.3.10_qbz5n2kfra8p0\\LocalCache\\local-packages\\Python310\\site-packages\\pandas\\core\\indexes\\base.py:3805\u001b[0m, in \u001b[0;36mIndex.get_loc\u001b[1;34m(self, key, method, tolerance)\u001b[0m\n\u001b[0;32m   3803\u001b[0m     \u001b[39mreturn\u001b[39;00m \u001b[39mself\u001b[39m\u001b[39m.\u001b[39m_engine\u001b[39m.\u001b[39mget_loc(casted_key)\n\u001b[0;32m   3804\u001b[0m \u001b[39mexcept\u001b[39;00m \u001b[39mKeyError\u001b[39;00m \u001b[39mas\u001b[39;00m err:\n\u001b[1;32m-> 3805\u001b[0m     \u001b[39mraise\u001b[39;00m \u001b[39mKeyError\u001b[39;00m(key) \u001b[39mfrom\u001b[39;00m \u001b[39merr\u001b[39;00m\n\u001b[0;32m   3806\u001b[0m \u001b[39mexcept\u001b[39;00m \u001b[39mTypeError\u001b[39;00m:\n\u001b[0;32m   3807\u001b[0m     \u001b[39m# If we have a listlike key, _check_indexing_error will raise\u001b[39;00m\n\u001b[0;32m   3808\u001b[0m     \u001b[39m#  InvalidIndexError. Otherwise we fall through and re-raise\u001b[39;00m\n\u001b[0;32m   3809\u001b[0m     \u001b[39m#  the TypeError.\u001b[39;00m\n\u001b[0;32m   3810\u001b[0m     \u001b[39mself\u001b[39m\u001b[39m.\u001b[39m_check_indexing_error(key)\n",
      "\u001b[1;31mKeyError\u001b[0m: 'Target'"
     ]
    }
   ],
   "source": [
    "yy = df_infected['Target']\n",
    "y = df_infected['Target'].sum()\n",
    "y2 = (df_infected['Target'] * df_infected['Target']).sum()\n",
    "\n",
    "x_st = df_infected['ST_Slope']\n",
    "xy_st = (x_st * yy).sum()\n",
    "xST = df_infected['ST_Slope'].sum()\n",
    "x2_st = (df_infected['ST_Slope'] * df_infected['ST_Slope']).sum()\n",
    "\n",
    "r1_st = 508 * xy_st - xST * y\n",
    "r2_st = 508 * x2_st - xST * xST\n",
    "r3_st = 508 * y2 - y * y\n",
    "r4_st = sqrt(r2_st) * sqrt(r3_st)\n",
    "r_st = r1_st / r4_st\n",
    "R_st = r_st * r_st\n",
    "print(R_st)"
   ]
  },
  {
   "cell_type": "markdown",
   "metadata": {},
   "source": [
    "* **PRIOR PROBABILITY**"
   ]
  },
  {
   "cell_type": "code",
   "execution_count": null,
   "metadata": {},
   "outputs": [
    {
     "name": "stdout",
     "output_type": "stream",
     "text": [
      "Menampilkan Prior Probability No  :  0.4466230936819172\n",
      "Menampilkan Prior Probability Yes :  0.5533769063180828\n"
     ]
    }
   ],
   "source": [
    "list_kelas = np.unique(HeartDisease['Target'])\n",
    "list_prior = np.zeros(len(list_kelas))\n",
    "jumlah_instance = len(HeartDisease)\n",
    "\n",
    "i = 0\n",
    "while i < len(list_kelas):\n",
    "    kelas_cek = list_kelas[i]\n",
    "    j = 0\n",
    "    jumlah_kelas_muncul = 0\n",
    "    while j < jumlah_instance:\n",
    "        kelas_tercek = HeartDisease['Target'].iloc[j]\n",
    "        if kelas_cek == kelas_tercek:\n",
    "            jumlah_kelas_muncul += 1\n",
    "        j += 1\n",
    "    prior_prob = jumlah_kelas_muncul / jumlah_instance\n",
    "    list_prior[i] = prior_prob\n",
    "    i += 1\n",
    "print(\"Menampilkan Prior Probability No  : \" , list_prior[0])\n",
    "print(\"Menampilkan Prior Probability Yes : \" , list_prior[1])"
   ]
  },
  {
   "cell_type": "markdown",
   "metadata": {},
   "source": [
    "* **PROBABILITAS INDEPENDEN KELAS Y DARI SEMUA FITUR KELAS X**"
   ]
  },
  {
   "cell_type": "markdown",
   "metadata": {},
   "source": [
    "**MENAMPILKAN JUMLAH DATA ATRIBUT AGE PADA LABEL TIDAK TERINFEKSI PENYAKIT JANTUNG**"
   ]
  },
  {
   "cell_type": "code",
   "execution_count": null,
   "metadata": {},
   "outputs": [],
   "source": [
    "target0 = HeartDisease[HeartDisease['Target'] == 0]\n",
    "target_0 = pd.value_counts(target0.Age)\n",
    "df_notInfected = pd.DataFrame(target_0)\n",
    "df_notInfected = df_notInfected.reset_index()\n",
    "df_notInfected.columns = ['Age', 'JumlahTarget_0']\n",
    "# print(df_notInfected)"
   ]
  },
  {
   "cell_type": "code",
   "execution_count": null,
   "metadata": {},
   "outputs": [
    {
     "name": "stdout",
     "output_type": "stream",
     "text": [
      "[0.5975609756097561, 0.06585365853658537, 0.046341463414634146, 0.036585365853658534, 0.02926829268292683, 0.026829268292682926, 0.024390243902439025, 0.024390243902439025, 0.02195121951219512, 0.02195121951219512, 0.02195121951219512, 0.01951219512195122, 0.01951219512195122, 0.01707317073170732, 0.00975609756097561, 0.00975609756097561, 0.007317073170731708, 0.007317073170731708, 0.007317073170731708, 0.007317073170731708, 0.007317073170731708, 0.007317073170731708, 0.004878048780487805, 0.004878048780487805, 0.004878048780487805, 0.004878048780487805, 0.004878048780487805, 0.004878048780487805, 0.004878048780487805, 0.24606299212598426, 0.12401574803149606, 0.12007874015748031, 0.08464566929133858, 0.051181102362204724, 0.03937007874015748, 0.03346456692913386, 0.02952755905511811, 0.025590551181102362, 0.025590551181102362, 0.017716535433070866, 0.017716535433070866, 0.017716535433070866, 0.015748031496062992, 0.013779527559055118, 0.013779527559055118, 0.011811023622047244, 0.011811023622047244, 0.011811023622047244, 0.011811023622047244, 0.011811023622047244, 0.011811023622047244, 0.00984251968503937, 0.00984251968503937, 0.00984251968503937, 0.007874015748031496, 0.007874015748031496, 0.007874015748031496, 0.007874015748031496, 0.005905511811023622, 0.005905511811023622, 0.005905511811023622, 0.005905511811023622, 0.003937007874015748, 0.003937007874015748, 0.003937007874015748, 0.003937007874015748, 0.003937007874015748, 0.003937007874015748, 0.003937007874015748, 0.003937007874015748, 0.003937007874015748, 0.003937007874015748, 0.003937007874015748, 0.003937007874015748, 0.003937007874015748, 0.003937007874015748, 0.003937007874015748, 0.003937007874015748, 0.003937007874015748, 0.07073170731707316, 0.05121951219512195, 0.046341463414634146, 0.046341463414634146, 0.04390243902439024, 0.04390243902439024, 0.041463414634146344, 0.03902439024390244, 0.03902439024390244, 0.036585365853658534, 0.03414634146341464, 0.03414634146341464, 0.03414634146341464, 0.03414634146341464, 0.03170731707317073, 0.03170731707317073, 0.02926829268292683, 0.02926829268292683, 0.026829268292682926, 0.026829268292682926, 0.026829268292682926, 0.02195121951219512, 0.02195121951219512, 0.01951219512195122, 0.01951219512195122, 0.01951219512195122, 0.01951219512195122, 0.01707317073170732, 0.01707317073170732, 0.014634146341463415, 0.014634146341463415, 0.014634146341463415, 0.012195121951219513, 0.012195121951219513, 0.00975609756097561, 0.00975609756097561, 0.00975609756097561, 0.00975609756097561, 0.00975609756097561, 0.007317073170731708, 0.004878048780487805, 0.004878048780487805, 0.004878048780487805, 0.004878048780487805, 0.004878048780487805, 0.004878048780487805, 0.004878048780487805, 0.004878048780487805]\n"
     ]
    }
   ],
   "source": [
    "age_ls = []\n",
    "for w in df_notInfected.JumlahTarget_0:\n",
    "    x = (w + 1)/countNoDisease\n",
    "    ls.append(x)\n",
    "print(ls)"
   ]
  },
  {
   "cell_type": "code",
   "execution_count": null,
   "metadata": {},
   "outputs": [
    {
     "name": "stdout",
     "output_type": "stream",
     "text": [
      "         Age  JumlahTarget_1\n",
      "0   0.612245              28\n",
      "1   0.591837              26\n",
      "2   0.673469              26\n",
      "3   0.571429              25\n",
      "4   0.693878              25\n",
      "5   0.551020              24\n",
      "6   0.653061              24\n",
      "7   0.632653              23\n",
      "8   0.530612              23\n",
      "9   0.714286              23\n",
      "10  0.489796              19\n",
      "11  0.510204              15\n",
      "12  0.734694              15\n",
      "13  0.755102              15\n",
      "14  0.469388              15\n",
      "15  0.408163              15\n",
      "16  0.448980              14\n",
      "17  0.367347              13\n",
      "18  0.795918              12\n",
      "19  0.428571              11\n",
      "20  0.387755              11\n",
      "21  0.204082              11\n",
      "22  0.306122              11\n",
      "23  0.836735              10\n",
      "24  0.775510               7\n",
      "25  0.857143               6\n",
      "26  0.265306               6\n",
      "27  0.816327               6\n",
      "28  0.244898               6\n",
      "29  0.326531               6\n",
      "30  0.938776               5\n",
      "31  0.142857               4\n",
      "32  0.285714               3\n",
      "33  0.897959               3\n",
      "34  0.346939               3\n",
      "35  0.163265               2\n",
      "36  0.959184               2\n",
      "37  1.000000               2\n",
      "38  0.877551               2\n",
      "39  0.081633               2\n",
      "40  0.224490               2\n",
      "41  0.122449               2\n",
      "42  0.183673               1\n",
      "43  0.918367               1\n",
      "44  0.061224               1\n",
      "45  0.979592               1\n",
      "46  0.102041               1\n"
     ]
    }
   ],
   "source": [
    "target1 = HeartDisease[HeartDisease['Target'] == 1]\n",
    "target_1 = pd.value_counts(target1.Age)\n",
    "df_infected = pd.DataFrame(target_1)\n",
    "df_infected = df_infected.reset_index()\n",
    "df_infected.columns = ['Age', 'JumlahTarget_1']\n",
    "print(df_infected)"
   ]
  },
  {
   "cell_type": "code",
   "execution_count": null,
   "metadata": {},
   "outputs": [
    {
     "name": "stdout",
     "output_type": "stream",
     "text": [
      "[0.5975609756097561, 0.06585365853658537, 0.046341463414634146, 0.036585365853658534, 0.02926829268292683, 0.026829268292682926, 0.024390243902439025, 0.024390243902439025, 0.02195121951219512, 0.02195121951219512, 0.02195121951219512, 0.01951219512195122, 0.01951219512195122, 0.01707317073170732, 0.00975609756097561, 0.00975609756097561, 0.007317073170731708, 0.007317073170731708, 0.007317073170731708, 0.007317073170731708, 0.007317073170731708, 0.007317073170731708, 0.004878048780487805, 0.004878048780487805, 0.004878048780487805, 0.004878048780487805, 0.004878048780487805, 0.004878048780487805, 0.004878048780487805, 0.24606299212598426, 0.12401574803149606, 0.12007874015748031, 0.08464566929133858, 0.051181102362204724, 0.03937007874015748, 0.03346456692913386, 0.02952755905511811, 0.025590551181102362, 0.025590551181102362, 0.017716535433070866, 0.017716535433070866, 0.017716535433070866, 0.015748031496062992, 0.013779527559055118, 0.013779527559055118, 0.011811023622047244, 0.011811023622047244, 0.011811023622047244, 0.011811023622047244, 0.011811023622047244, 0.011811023622047244, 0.00984251968503937, 0.00984251968503937, 0.00984251968503937, 0.007874015748031496, 0.007874015748031496, 0.007874015748031496, 0.007874015748031496, 0.005905511811023622, 0.005905511811023622, 0.005905511811023622, 0.005905511811023622, 0.003937007874015748, 0.003937007874015748, 0.003937007874015748, 0.003937007874015748, 0.003937007874015748, 0.003937007874015748, 0.003937007874015748, 0.003937007874015748, 0.003937007874015748, 0.003937007874015748, 0.003937007874015748, 0.003937007874015748, 0.003937007874015748, 0.003937007874015748, 0.003937007874015748, 0.003937007874015748, 0.003937007874015748, 0.07073170731707316, 0.05121951219512195, 0.046341463414634146, 0.046341463414634146, 0.04390243902439024, 0.04390243902439024, 0.041463414634146344, 0.03902439024390244, 0.03902439024390244, 0.036585365853658534, 0.03414634146341464, 0.03414634146341464, 0.03414634146341464, 0.03414634146341464, 0.03170731707317073, 0.03170731707317073, 0.02926829268292683, 0.02926829268292683, 0.026829268292682926, 0.026829268292682926, 0.026829268292682926, 0.02195121951219512, 0.02195121951219512, 0.01951219512195122, 0.01951219512195122, 0.01951219512195122, 0.01951219512195122, 0.01707317073170732, 0.01707317073170732, 0.014634146341463415, 0.014634146341463415, 0.014634146341463415, 0.012195121951219513, 0.012195121951219513, 0.00975609756097561, 0.00975609756097561, 0.00975609756097561, 0.00975609756097561, 0.00975609756097561, 0.007317073170731708, 0.004878048780487805, 0.004878048780487805, 0.004878048780487805, 0.004878048780487805, 0.004878048780487805, 0.004878048780487805, 0.004878048780487805, 0.004878048780487805, 0.05708661417322835, 0.0531496062992126, 0.0531496062992126, 0.051181102362204724, 0.051181102362204724, 0.04921259842519685, 0.04921259842519685, 0.047244094488188976, 0.047244094488188976, 0.047244094488188976, 0.03937007874015748, 0.031496062992125984, 0.031496062992125984, 0.031496062992125984, 0.031496062992125984, 0.031496062992125984, 0.02952755905511811, 0.027559055118110236, 0.025590551181102362, 0.023622047244094488, 0.023622047244094488, 0.023622047244094488, 0.023622047244094488, 0.021653543307086614, 0.015748031496062992, 0.013779527559055118, 0.013779527559055118, 0.013779527559055118, 0.013779527559055118, 0.013779527559055118, 0.011811023622047244, 0.00984251968503937, 0.007874015748031496, 0.007874015748031496, 0.007874015748031496, 0.005905511811023622, 0.005905511811023622, 0.005905511811023622, 0.005905511811023622, 0.005905511811023622, 0.005905511811023622, 0.005905511811023622, 0.003937007874015748, 0.003937007874015748, 0.003937007874015748, 0.003937007874015748, 0.003937007874015748]\n"
     ]
    }
   ],
   "source": [
    "_ls = []\n",
    "for w in df_infected.JumlahTarget_1:\n",
    "    x = (w + 1)/countHaveDisease\n",
    "    ls.append(x)\n",
    "print(ls)"
   ]
  },
  {
   "cell_type": "markdown",
   "metadata": {},
   "source": [
    "**MENAMPILKAN JUMLAH DATA ATRIBUT SEX PADA LABEL TIDAK TERINFEKSI & TERINFEKSI PENYAKIT JANTUNG**"
   ]
  },
  {
   "cell_type": "code",
   "execution_count": null,
   "metadata": {},
   "outputs": [],
   "source": [
    "target0 = HeartDisease[HeartDisease['Target'] == 0]\n",
    "target_0 = pd.value_counts(target0.Sex)\n",
    "df_notInfected = pd.DataFrame(target_0)\n",
    "df_notInfected = df_notInfected.reset_index()\n",
    "df_notInfected.columns = ['Sex', 'JumlahTarget_0']\n",
    "# print(df_notInfected)"
   ]
  },
  {
   "cell_type": "code",
   "execution_count": null,
   "metadata": {},
   "outputs": [
    {
     "name": "stdout",
     "output_type": "stream",
     "text": [
      "[0.5975609756097561, 0.06585365853658537, 0.046341463414634146, 0.036585365853658534, 0.02926829268292683, 0.026829268292682926, 0.024390243902439025, 0.024390243902439025, 0.02195121951219512, 0.02195121951219512, 0.02195121951219512, 0.01951219512195122, 0.01951219512195122, 0.01707317073170732, 0.00975609756097561, 0.00975609756097561, 0.007317073170731708, 0.007317073170731708, 0.007317073170731708, 0.007317073170731708, 0.007317073170731708, 0.007317073170731708, 0.004878048780487805, 0.004878048780487805, 0.004878048780487805, 0.004878048780487805, 0.004878048780487805, 0.004878048780487805, 0.004878048780487805, 0.24606299212598426, 0.12401574803149606, 0.12007874015748031, 0.08464566929133858, 0.051181102362204724, 0.03937007874015748, 0.03346456692913386, 0.02952755905511811, 0.025590551181102362, 0.025590551181102362, 0.017716535433070866, 0.017716535433070866, 0.017716535433070866, 0.015748031496062992, 0.013779527559055118, 0.013779527559055118, 0.011811023622047244, 0.011811023622047244, 0.011811023622047244, 0.011811023622047244, 0.011811023622047244, 0.011811023622047244, 0.00984251968503937, 0.00984251968503937, 0.00984251968503937, 0.007874015748031496, 0.007874015748031496, 0.007874015748031496, 0.007874015748031496, 0.005905511811023622, 0.005905511811023622, 0.005905511811023622, 0.005905511811023622, 0.003937007874015748, 0.003937007874015748, 0.003937007874015748, 0.003937007874015748, 0.003937007874015748, 0.003937007874015748, 0.003937007874015748, 0.003937007874015748, 0.003937007874015748, 0.003937007874015748, 0.003937007874015748, 0.003937007874015748, 0.003937007874015748, 0.003937007874015748, 0.003937007874015748, 0.003937007874015748, 0.003937007874015748, 0.07073170731707316, 0.05121951219512195, 0.046341463414634146, 0.046341463414634146, 0.04390243902439024, 0.04390243902439024, 0.041463414634146344, 0.03902439024390244, 0.03902439024390244, 0.036585365853658534, 0.03414634146341464, 0.03414634146341464, 0.03414634146341464, 0.03414634146341464, 0.03170731707317073, 0.03170731707317073, 0.02926829268292683, 0.02926829268292683, 0.026829268292682926, 0.026829268292682926, 0.026829268292682926, 0.02195121951219512, 0.02195121951219512, 0.01951219512195122, 0.01951219512195122, 0.01951219512195122, 0.01951219512195122, 0.01707317073170732, 0.01707317073170732, 0.014634146341463415, 0.014634146341463415, 0.014634146341463415, 0.012195121951219513, 0.012195121951219513, 0.00975609756097561, 0.00975609756097561, 0.00975609756097561, 0.00975609756097561, 0.00975609756097561, 0.007317073170731708, 0.004878048780487805, 0.004878048780487805, 0.004878048780487805, 0.004878048780487805, 0.004878048780487805, 0.004878048780487805, 0.004878048780487805, 0.004878048780487805, 0.05708661417322835, 0.0531496062992126, 0.0531496062992126, 0.051181102362204724, 0.051181102362204724, 0.04921259842519685, 0.04921259842519685, 0.047244094488188976, 0.047244094488188976, 0.047244094488188976, 0.03937007874015748, 0.031496062992125984, 0.031496062992125984, 0.031496062992125984, 0.031496062992125984, 0.031496062992125984, 0.02952755905511811, 0.027559055118110236, 0.025590551181102362, 0.023622047244094488, 0.023622047244094488, 0.023622047244094488, 0.023622047244094488, 0.021653543307086614, 0.015748031496062992, 0.013779527559055118, 0.013779527559055118, 0.013779527559055118, 0.013779527559055118, 0.013779527559055118, 0.011811023622047244, 0.00984251968503937, 0.007874015748031496, 0.007874015748031496, 0.007874015748031496, 0.005905511811023622, 0.005905511811023622, 0.005905511811023622, 0.005905511811023622, 0.005905511811023622, 0.005905511811023622, 0.005905511811023622, 0.003937007874015748, 0.003937007874015748, 0.003937007874015748, 0.003937007874015748, 0.003937007874015748, 0.6536585365853659, 0.35121951219512193]\n"
     ]
    }
   ],
   "source": [
    "sex_ls = []\n",
    "for w in df_notInfected.JumlahTarget_0:\n",
    "    x = (w + 1)/countNoDisease\n",
    "    ls.append(x)\n",
    "print(ls)"
   ]
  },
  {
   "cell_type": "code",
   "execution_count": null,
   "metadata": {},
   "outputs": [],
   "source": [
    "target1 = HeartDisease[HeartDisease['Target'] == 1]\n",
    "target_1 = pd.value_counts(target1.Sex)\n",
    "df_infected = pd.DataFrame(target_1)\n",
    "df_infected = df_infected.reset_index()\n",
    "df_infected.columns = ['Sex', 'JumlahTarget_1']\n",
    "# print(df_infected)"
   ]
  },
  {
   "cell_type": "code",
   "execution_count": null,
   "metadata": {},
   "outputs": [
    {
     "name": "stdout",
     "output_type": "stream",
     "text": [
      "[0.9035433070866141, 0.10039370078740158]\n"
     ]
    }
   ],
   "source": [
    "ls = []\n",
    "for w in df_infected.JumlahTarget_1:\n",
    "    x = (w + 1)/countHaveDisease\n",
    "    ls.append(x)\n",
    "print(ls)"
   ]
  },
  {
   "cell_type": "markdown",
   "metadata": {},
   "source": [
    "**MENAMPILKAN JUMLAH DATA ATRIBUT CHESTPAIN TYPE PADA LABEL TIDAK TERINFEKSI PENYAKIT JANTUNG**"
   ]
  },
  {
   "cell_type": "code",
   "execution_count": null,
   "metadata": {},
   "outputs": [],
   "source": [
    "target0 = HeartDisease[HeartDisease['Target'] == 0]\n",
    "target_0 = pd.value_counts(target0.ChestPainType)\n",
    "df_notInfected = pd.DataFrame(target_0)\n",
    "df_notInfected = df_notInfected.reset_index()\n",
    "df_notInfected.columns = ['ChestPainType', 'JumlahTarget_0']\n",
    "# print(df_notInfected)"
   ]
  },
  {
   "cell_type": "code",
   "execution_count": null,
   "metadata": {},
   "outputs": [
    {
     "name": "stdout",
     "output_type": "stream",
     "text": [
      "[0.9035433070866141, 0.10039370078740158, 0.36585365853658536, 0.32195121951219513, 0.25609756097560976, 0.06585365853658537]\n"
     ]
    }
   ],
   "source": [
    "ChestPainType_ls = []\n",
    "for w in df_notInfected.JumlahTarget_0:\n",
    "    x = (w + 1)/countNoDisease\n",
    "    ls.append(x)\n",
    "print(ls)"
   ]
  },
  {
   "cell_type": "code",
   "execution_count": null,
   "metadata": {},
   "outputs": [
    {
     "name": "stdout",
     "output_type": "stream",
     "text": [
      "   ChestPainType  JumlahTarget_1\n",
      "0              0             392\n",
      "1              2              72\n",
      "2              1              24\n",
      "3              3              20\n"
     ]
    }
   ],
   "source": [
    "target1 = HeartDisease[HeartDisease['Target'] == 1]\n",
    "target_1 = pd.value_counts(target1.ChestPainType)\n",
    "df_infected = pd.DataFrame(target_1)\n",
    "df_infected = df_infected.reset_index()\n",
    "df_infected.columns = ['ChestPainType', 'JumlahTarget_1']\n",
    "print(df_infected)"
   ]
  },
  {
   "cell_type": "code",
   "execution_count": null,
   "metadata": {},
   "outputs": [
    {
     "name": "stdout",
     "output_type": "stream",
     "text": [
      "[0.7736220472440944, 0.1437007874015748, 0.04921259842519685, 0.04133858267716536]\n"
     ]
    }
   ],
   "source": [
    "ls = []\n",
    "for w in df_infected.JumlahTarget_1:\n",
    "    x = (w + 1)/countHaveDisease\n",
    "    ls.append(x)\n",
    "print(ls)"
   ]
  },
  {
   "cell_type": "markdown",
   "metadata": {},
   "source": [
    "**MENAMPILKAN JUMLAH DATA ATRIBUT RESTING BP PADA LABEL TIDAK TERINFEKSI PENYAKIT JANTUNG**"
   ]
  },
  {
   "cell_type": "code",
   "execution_count": null,
   "metadata": {},
   "outputs": [],
   "source": [
    "target0 = HeartDisease[HeartDisease['Target'] == 0]\n",
    "target_0 = pd.value_counts(target0.RestingBP)\n",
    "df_notInfected = pd.DataFrame(target_0)\n",
    "df_notInfected = df_notInfected.reset_index()\n",
    "df_notInfected.columns = ['RestingBP', 'JumlahTarget_0']\n",
    "# print(df_notInfected)"
   ]
  },
  {
   "cell_type": "code",
   "execution_count": null,
   "metadata": {},
   "outputs": [
    {
     "name": "stdout",
     "output_type": "stream",
     "text": [
      "[0.7736220472440944, 0.1437007874015748, 0.04921259842519685, 0.04133858267716536, 0.1902439024390244, 0.16341463414634147, 0.12926829268292683, 0.06585365853658537, 0.06341463414634146, 0.041463414634146344, 0.026829268292682926, 0.026829268292682926, 0.026829268292682926, 0.02195121951219512, 0.02195121951219512, 0.01951219512195122, 0.01951219512195122, 0.01707317073170732, 0.01707317073170732, 0.014634146341463415, 0.014634146341463415, 0.012195121951219513, 0.012195121951219513, 0.012195121951219513, 0.012195121951219513, 0.012195121951219513, 0.00975609756097561, 0.00975609756097561, 0.00975609756097561, 0.00975609756097561, 0.00975609756097561, 0.00975609756097561, 0.00975609756097561, 0.007317073170731708, 0.007317073170731708, 0.007317073170731708, 0.007317073170731708, 0.007317073170731708, 0.004878048780487805, 0.004878048780487805, 0.004878048780487805, 0.004878048780487805, 0.004878048780487805, 0.004878048780487805, 0.004878048780487805, 0.004878048780487805, 0.004878048780487805, 0.004878048780487805, 0.004878048780487805, 0.004878048780487805, 0.004878048780487805, 0.004878048780487805, 0.004878048780487805]\n"
     ]
    }
   ],
   "source": [
    "RestingBP_ls = []\n",
    "for w in df_notInfected.JumlahTarget_0:\n",
    "    x = (w + 1)/countNoDisease\n",
    "    ls.append(x)\n",
    "print(ls)"
   ]
  },
  {
   "cell_type": "code",
   "execution_count": null,
   "metadata": {},
   "outputs": [],
   "source": [
    "target1 = HeartDisease[HeartDisease['Target'] == 1]\n",
    "target_1 = pd.value_counts(target1.RestingBP)\n",
    "df_infected = pd.DataFrame(target_1)\n",
    "df_infected = df_infected.reset_index()\n",
    "df_infected.columns = ['RestingBP', 'JumlahTarget_1']\n",
    "# print(df_infected)"
   ]
  },
  {
   "cell_type": "code",
   "execution_count": null,
   "metadata": {},
   "outputs": [
    {
     "name": "stdout",
     "output_type": "stream",
     "text": [
      "[0.11023622047244094, 0.11023622047244094, 0.10433070866141732, 0.0688976377952756, 0.06496062992125984, 0.0610236220472441, 0.03937007874015748, 0.031496062992125984, 0.031496062992125984, 0.025590551181102362, 0.023622047244094488, 0.023622047244094488, 0.021653543307086614, 0.017716535433070866, 0.017716535433070866, 0.015748031496062992, 0.015748031496062992, 0.015748031496062992, 0.015748031496062992, 0.015748031496062992, 0.015748031496062992, 0.015748031496062992, 0.013779527559055118, 0.013779527559055118, 0.011811023622047244, 0.011811023622047244, 0.011811023622047244, 0.00984251968503937, 0.00984251968503937, 0.00984251968503937, 0.00984251968503937, 0.00984251968503937, 0.007874015748031496, 0.007874015748031496, 0.007874015748031496, 0.007874015748031496, 0.007874015748031496, 0.005905511811023622, 0.005905511811023622, 0.005905511811023622, 0.005905511811023622, 0.005905511811023622, 0.005905511811023622, 0.003937007874015748, 0.003937007874015748, 0.003937007874015748, 0.003937007874015748, 0.003937007874015748, 0.003937007874015748, 0.003937007874015748, 0.003937007874015748, 0.003937007874015748, 0.003937007874015748, 0.003937007874015748, 0.003937007874015748, 0.003937007874015748, 0.003937007874015748, 0.003937007874015748, 0.003937007874015748, 0.003937007874015748, 0.003937007874015748]\n"
     ]
    }
   ],
   "source": [
    "ls = []\n",
    "for w in df_infected.JumlahTarget_1:\n",
    "    x = (w + 1)/countHaveDisease\n",
    "    ls.append(x)\n",
    "print(ls)"
   ]
  },
  {
   "cell_type": "markdown",
   "metadata": {},
   "source": [
    "**MENAMPILKAN JUMLAH DATA ATRIBUT CHOLESTEROL PADA LABEL TIDAK TERINFEKSI  & TERINFEKSI PENYAKIT JANTUNG**"
   ]
  },
  {
   "cell_type": "code",
   "execution_count": null,
   "metadata": {},
   "outputs": [],
   "source": [
    "target0 = HeartDisease[HeartDisease['Target'] == 0]\n",
    "target_0 = pd.value_counts(target0.Cholesterol)\n",
    "df_notInfected = pd.DataFrame(target_0)\n",
    "df_notInfected = df_notInfected.reset_index()\n",
    "df_notInfected.columns = ['Cholesterol', 'JumlahTarget_0']\n",
    "# print(df_notInfected)"
   ]
  },
  {
   "cell_type": "code",
   "execution_count": null,
   "metadata": {},
   "outputs": [
    {
     "name": "stdout",
     "output_type": "stream",
     "text": [
      "[0.11023622047244094, 0.11023622047244094, 0.10433070866141732, 0.0688976377952756, 0.06496062992125984, 0.0610236220472441, 0.03937007874015748, 0.031496062992125984, 0.031496062992125984, 0.025590551181102362, 0.023622047244094488, 0.023622047244094488, 0.021653543307086614, 0.017716535433070866, 0.017716535433070866, 0.015748031496062992, 0.015748031496062992, 0.015748031496062992, 0.015748031496062992, 0.015748031496062992, 0.015748031496062992, 0.015748031496062992, 0.013779527559055118, 0.013779527559055118, 0.011811023622047244, 0.011811023622047244, 0.011811023622047244, 0.00984251968503937, 0.00984251968503937, 0.00984251968503937, 0.00984251968503937, 0.00984251968503937, 0.007874015748031496, 0.007874015748031496, 0.007874015748031496, 0.007874015748031496, 0.007874015748031496, 0.005905511811023622, 0.005905511811023622, 0.005905511811023622, 0.005905511811023622, 0.005905511811023622, 0.005905511811023622, 0.003937007874015748, 0.003937007874015748, 0.003937007874015748, 0.003937007874015748, 0.003937007874015748, 0.003937007874015748, 0.003937007874015748, 0.003937007874015748, 0.003937007874015748, 0.003937007874015748, 0.003937007874015748, 0.003937007874015748, 0.003937007874015748, 0.003937007874015748, 0.003937007874015748, 0.003937007874015748, 0.003937007874015748, 0.003937007874015748, 0.05121951219512195, 0.02195121951219512, 0.02195121951219512, 0.01951219512195122, 0.01707317073170732, 0.01707317073170732, 0.014634146341463415, 0.014634146341463415, 0.014634146341463415, 0.014634146341463415, 0.014634146341463415, 0.014634146341463415, 0.014634146341463415, 0.014634146341463415, 0.014634146341463415, 0.014634146341463415, 0.014634146341463415, 0.012195121951219513, 0.012195121951219513, 0.012195121951219513, 0.012195121951219513, 0.012195121951219513, 0.012195121951219513, 0.012195121951219513, 0.012195121951219513, 0.012195121951219513, 0.012195121951219513, 0.012195121951219513, 0.012195121951219513, 0.012195121951219513, 0.012195121951219513, 0.012195121951219513, 0.012195121951219513, 0.012195121951219513, 0.012195121951219513, 0.012195121951219513, 0.012195121951219513, 0.00975609756097561, 0.00975609756097561, 0.00975609756097561, 0.00975609756097561, 0.00975609756097561, 0.00975609756097561, 0.00975609756097561, 0.00975609756097561, 0.00975609756097561, 0.00975609756097561, 0.00975609756097561, 0.00975609756097561, 0.00975609756097561, 0.00975609756097561, 0.00975609756097561, 0.00975609756097561, 0.00975609756097561, 0.00975609756097561, 0.00975609756097561, 0.00975609756097561, 0.007317073170731708, 0.007317073170731708, 0.007317073170731708, 0.007317073170731708, 0.007317073170731708, 0.007317073170731708, 0.007317073170731708, 0.007317073170731708, 0.007317073170731708, 0.007317073170731708, 0.007317073170731708, 0.007317073170731708, 0.007317073170731708, 0.007317073170731708, 0.007317073170731708, 0.007317073170731708, 0.007317073170731708, 0.007317073170731708, 0.007317073170731708, 0.007317073170731708, 0.007317073170731708, 0.007317073170731708, 0.007317073170731708, 0.007317073170731708, 0.007317073170731708, 0.007317073170731708, 0.007317073170731708, 0.007317073170731708, 0.007317073170731708, 0.007317073170731708, 0.007317073170731708, 0.007317073170731708, 0.007317073170731708, 0.007317073170731708, 0.007317073170731708, 0.007317073170731708, 0.007317073170731708, 0.007317073170731708, 0.007317073170731708, 0.007317073170731708, 0.007317073170731708, 0.007317073170731708, 0.007317073170731708, 0.007317073170731708, 0.007317073170731708, 0.007317073170731708, 0.007317073170731708, 0.007317073170731708, 0.004878048780487805, 0.004878048780487805, 0.004878048780487805, 0.004878048780487805, 0.004878048780487805, 0.004878048780487805, 0.004878048780487805, 0.004878048780487805, 0.004878048780487805, 0.004878048780487805, 0.004878048780487805, 0.004878048780487805, 0.004878048780487805, 0.004878048780487805, 0.004878048780487805, 0.004878048780487805, 0.004878048780487805, 0.004878048780487805, 0.004878048780487805, 0.004878048780487805, 0.004878048780487805, 0.004878048780487805, 0.004878048780487805, 0.004878048780487805, 0.004878048780487805, 0.004878048780487805, 0.004878048780487805, 0.004878048780487805, 0.004878048780487805, 0.004878048780487805, 0.004878048780487805, 0.004878048780487805, 0.004878048780487805, 0.004878048780487805, 0.004878048780487805, 0.004878048780487805, 0.004878048780487805, 0.004878048780487805, 0.004878048780487805, 0.004878048780487805, 0.004878048780487805, 0.004878048780487805, 0.004878048780487805, 0.004878048780487805, 0.004878048780487805, 0.004878048780487805, 0.004878048780487805, 0.004878048780487805, 0.004878048780487805, 0.004878048780487805, 0.004878048780487805, 0.004878048780487805, 0.004878048780487805, 0.004878048780487805, 0.004878048780487805, 0.004878048780487805, 0.004878048780487805, 0.004878048780487805, 0.004878048780487805, 0.004878048780487805, 0.004878048780487805, 0.004878048780487805, 0.004878048780487805, 0.004878048780487805]\n"
     ]
    }
   ],
   "source": [
    "Cholesterol_ls = []\n",
    "for w in df_notInfected.JumlahTarget_0:\n",
    "    x = (w + 1)/countNoDisease\n",
    "    ls.append(x)\n",
    "print(ls)"
   ]
  },
  {
   "cell_type": "code",
   "execution_count": null,
   "metadata": {},
   "outputs": [],
   "source": [
    "target1 = HeartDisease[HeartDisease['Target'] == 1]\n",
    "target_1 = pd.value_counts(target1.Cholesterol)\n",
    "df_infected = pd.DataFrame(target_1)\n",
    "df_infected = df_infected.reset_index()\n",
    "df_infected.columns = ['Cholesterol', 'JumlahTarget_1']\n",
    "# print(df_infected)"
   ]
  },
  {
   "cell_type": "code",
   "execution_count": null,
   "metadata": {},
   "outputs": [
    {
     "name": "stdout",
     "output_type": "stream",
     "text": [
      "[0.30118110236220474, 0.015748031496062992, 0.013779527559055118, 0.013779527559055118, 0.011811023622047244, 0.011811023622047244, 0.011811023622047244, 0.011811023622047244, 0.011811023622047244, 0.011811023622047244, 0.011811023622047244, 0.011811023622047244, 0.011811023622047244, 0.00984251968503937, 0.00984251968503937, 0.00984251968503937, 0.00984251968503937, 0.00984251968503937, 0.00984251968503937, 0.00984251968503937, 0.00984251968503937, 0.00984251968503937, 0.00984251968503937, 0.00984251968503937, 0.00984251968503937, 0.00984251968503937, 0.00984251968503937, 0.007874015748031496, 0.007874015748031496, 0.007874015748031496, 0.007874015748031496, 0.007874015748031496, 0.007874015748031496, 0.007874015748031496, 0.007874015748031496, 0.007874015748031496, 0.007874015748031496, 0.007874015748031496, 0.007874015748031496, 0.007874015748031496, 0.007874015748031496, 0.007874015748031496, 0.007874015748031496, 0.007874015748031496, 0.007874015748031496, 0.007874015748031496, 0.005905511811023622, 0.005905511811023622, 0.005905511811023622, 0.005905511811023622, 0.005905511811023622, 0.005905511811023622, 0.005905511811023622, 0.005905511811023622, 0.005905511811023622, 0.005905511811023622, 0.005905511811023622, 0.005905511811023622, 0.005905511811023622, 0.005905511811023622, 0.005905511811023622, 0.005905511811023622, 0.005905511811023622, 0.005905511811023622, 0.005905511811023622, 0.005905511811023622, 0.005905511811023622, 0.005905511811023622, 0.005905511811023622, 0.005905511811023622, 0.005905511811023622, 0.005905511811023622, 0.005905511811023622, 0.005905511811023622, 0.005905511811023622, 0.005905511811023622, 0.005905511811023622, 0.005905511811023622, 0.005905511811023622, 0.005905511811023622, 0.005905511811023622, 0.005905511811023622, 0.005905511811023622, 0.005905511811023622, 0.005905511811023622, 0.005905511811023622, 0.005905511811023622, 0.005905511811023622, 0.005905511811023622, 0.005905511811023622, 0.005905511811023622, 0.005905511811023622, 0.005905511811023622, 0.005905511811023622, 0.005905511811023622, 0.005905511811023622, 0.003937007874015748, 0.003937007874015748, 0.003937007874015748, 0.003937007874015748, 0.003937007874015748, 0.003937007874015748, 0.003937007874015748, 0.003937007874015748, 0.003937007874015748, 0.003937007874015748, 0.003937007874015748, 0.003937007874015748, 0.003937007874015748, 0.003937007874015748, 0.003937007874015748, 0.003937007874015748, 0.003937007874015748, 0.003937007874015748, 0.003937007874015748, 0.003937007874015748, 0.003937007874015748, 0.003937007874015748, 0.003937007874015748, 0.003937007874015748, 0.003937007874015748, 0.003937007874015748, 0.003937007874015748, 0.003937007874015748, 0.003937007874015748, 0.003937007874015748, 0.003937007874015748, 0.003937007874015748, 0.003937007874015748, 0.003937007874015748, 0.003937007874015748, 0.003937007874015748, 0.003937007874015748, 0.003937007874015748, 0.003937007874015748, 0.003937007874015748, 0.003937007874015748, 0.003937007874015748, 0.003937007874015748, 0.003937007874015748, 0.003937007874015748, 0.003937007874015748, 0.003937007874015748, 0.003937007874015748, 0.003937007874015748, 0.003937007874015748, 0.003937007874015748, 0.003937007874015748, 0.003937007874015748, 0.003937007874015748, 0.003937007874015748, 0.003937007874015748, 0.003937007874015748, 0.003937007874015748, 0.003937007874015748, 0.003937007874015748, 0.003937007874015748, 0.003937007874015748, 0.003937007874015748, 0.003937007874015748, 0.003937007874015748, 0.003937007874015748, 0.003937007874015748, 0.003937007874015748, 0.003937007874015748, 0.003937007874015748, 0.003937007874015748, 0.003937007874015748, 0.003937007874015748, 0.003937007874015748, 0.003937007874015748, 0.003937007874015748, 0.003937007874015748, 0.003937007874015748, 0.003937007874015748]\n"
     ]
    }
   ],
   "source": [
    "ls = []\n",
    "for w in df_infected.JumlahTarget_1:\n",
    "    x = (w + 1)/countHaveDisease\n",
    "    ls.append(x)\n",
    "print(ls)"
   ]
  },
  {
   "cell_type": "markdown",
   "metadata": {},
   "source": [
    "**MENAMPILKAN JUMLAH DATA ATRIBUT MAX HR PADA LABEL TIDAK TERINFEKSI  & TERINFEKSI PENYAKIT JANTUNG**"
   ]
  },
  {
   "cell_type": "code",
   "execution_count": null,
   "metadata": {},
   "outputs": [],
   "source": [
    "target0 = HeartDisease[HeartDisease['Target'] == 0]\n",
    "target_0 = pd.value_counts(target0.MaxHR)\n",
    "df_notInfected = pd.DataFrame(target_0)\n",
    "df_notInfected = df_notInfected.reset_index()\n",
    "df_notInfected.columns = ['MaxHR', 'JumlahTarget_0']\n",
    "# print(df_notInfected)"
   ]
  },
  {
   "cell_type": "code",
   "execution_count": null,
   "metadata": {},
   "outputs": [
    {
     "name": "stdout",
     "output_type": "stream",
     "text": [
      "[0.05121951219512195, 0.04878048780487805, 0.046341463414634146, 0.036585365853658534, 0.02926829268292683, 0.02926829268292683, 0.026829268292682926, 0.024390243902439025, 0.024390243902439025, 0.024390243902439025, 0.024390243902439025, 0.02195121951219512, 0.02195121951219512, 0.02195121951219512, 0.02195121951219512, 0.01951219512195122, 0.01951219512195122, 0.01951219512195122, 0.01951219512195122, 0.01951219512195122, 0.01707317073170732, 0.01707317073170732, 0.01707317073170732, 0.01707317073170732, 0.01707317073170732, 0.01707317073170732, 0.014634146341463415, 0.014634146341463415, 0.014634146341463415, 0.014634146341463415, 0.014634146341463415, 0.014634146341463415, 0.012195121951219513, 0.012195121951219513, 0.012195121951219513, 0.012195121951219513, 0.012195121951219513, 0.012195121951219513, 0.012195121951219513, 0.012195121951219513, 0.012195121951219513, 0.012195121951219513, 0.012195121951219513, 0.012195121951219513, 0.012195121951219513, 0.012195121951219513, 0.012195121951219513, 0.00975609756097561, 0.00975609756097561, 0.00975609756097561, 0.00975609756097561, 0.00975609756097561, 0.00975609756097561, 0.00975609756097561, 0.00975609756097561, 0.00975609756097561, 0.00975609756097561, 0.007317073170731708, 0.007317073170731708, 0.007317073170731708, 0.007317073170731708, 0.007317073170731708, 0.007317073170731708, 0.007317073170731708, 0.007317073170731708, 0.007317073170731708, 0.007317073170731708, 0.007317073170731708, 0.007317073170731708, 0.007317073170731708, 0.007317073170731708, 0.007317073170731708, 0.004878048780487805, 0.004878048780487805, 0.004878048780487805, 0.004878048780487805, 0.004878048780487805, 0.004878048780487805, 0.004878048780487805, 0.004878048780487805, 0.004878048780487805, 0.004878048780487805, 0.004878048780487805, 0.004878048780487805, 0.004878048780487805, 0.004878048780487805, 0.004878048780487805, 0.004878048780487805, 0.004878048780487805, 0.004878048780487805]\n"
     ]
    }
   ],
   "source": [
    "ls = []\n",
    "for w in df_notInfected.JumlahTarget_0:\n",
    "    x = (w + 1)/countNoDisease\n",
    "    ls.append(x)\n",
    "print(ls)"
   ]
  },
  {
   "cell_type": "code",
   "execution_count": null,
   "metadata": {},
   "outputs": [
    {
     "name": "stdout",
     "output_type": "stream",
     "text": [
      "        MaxHR  JumlahTarget_1\n",
      "0    0.422535              25\n",
      "1    0.633803              23\n",
      "2    0.563380              23\n",
      "3    0.492958              22\n",
      "4    0.457746              17\n",
      "..        ...             ...\n",
      "97   0.021127               1\n",
      "98   0.161972               1\n",
      "99   0.000000               1\n",
      "100  0.070423               1\n",
      "101  0.732394               1\n",
      "\n",
      "[102 rows x 2 columns]\n"
     ]
    }
   ],
   "source": [
    "target1 = HeartDisease[HeartDisease['Target'] == 1]\n",
    "target_1 = pd.value_counts(target1.MaxHR)\n",
    "df_infected = pd.DataFrame(target_1)\n",
    "df_infected = df_infected.reset_index()\n",
    "df_infected.columns = ['MaxHR', 'JumlahTarget_1']\n",
    "print(df_infected)"
   ]
  },
  {
   "cell_type": "code",
   "execution_count": null,
   "metadata": {},
   "outputs": [
    {
     "name": "stdout",
     "output_type": "stream",
     "text": [
      "[0.051181102362204724, 0.047244094488188976, 0.047244094488188976, 0.045275590551181105, 0.03543307086614173, 0.03346456692913386, 0.031496062992125984, 0.025590551181102362, 0.023622047244094488, 0.023622047244094488, 0.021653543307086614, 0.01968503937007874, 0.017716535433070866, 0.017716535433070866, 0.017716535433070866, 0.017716535433070866, 0.017716535433070866, 0.015748031496062992, 0.015748031496062992, 0.015748031496062992, 0.013779527559055118, 0.013779527559055118, 0.013779527559055118, 0.013779527559055118, 0.013779527559055118, 0.013779527559055118, 0.013779527559055118, 0.013779527559055118, 0.013779527559055118, 0.013779527559055118, 0.013779527559055118, 0.011811023622047244, 0.011811023622047244, 0.011811023622047244, 0.011811023622047244, 0.011811023622047244, 0.011811023622047244, 0.011811023622047244, 0.00984251968503937, 0.00984251968503937, 0.00984251968503937, 0.00984251968503937, 0.00984251968503937, 0.00984251968503937, 0.00984251968503937, 0.00984251968503937, 0.00984251968503937, 0.00984251968503937, 0.00984251968503937, 0.00984251968503937, 0.00984251968503937, 0.00984251968503937, 0.007874015748031496, 0.007874015748031496, 0.007874015748031496, 0.007874015748031496, 0.007874015748031496, 0.007874015748031496, 0.007874015748031496, 0.007874015748031496, 0.007874015748031496, 0.007874015748031496, 0.007874015748031496, 0.007874015748031496, 0.007874015748031496, 0.007874015748031496, 0.005905511811023622, 0.005905511811023622, 0.005905511811023622, 0.005905511811023622, 0.005905511811023622, 0.005905511811023622, 0.005905511811023622, 0.005905511811023622, 0.005905511811023622, 0.005905511811023622, 0.005905511811023622, 0.005905511811023622, 0.005905511811023622, 0.005905511811023622, 0.005905511811023622, 0.005905511811023622, 0.005905511811023622, 0.005905511811023622, 0.003937007874015748, 0.003937007874015748, 0.003937007874015748, 0.003937007874015748, 0.003937007874015748, 0.003937007874015748, 0.003937007874015748, 0.003937007874015748, 0.003937007874015748, 0.003937007874015748, 0.003937007874015748, 0.003937007874015748, 0.003937007874015748, 0.003937007874015748, 0.003937007874015748, 0.003937007874015748, 0.003937007874015748, 0.003937007874015748]\n"
     ]
    }
   ],
   "source": [
    "ls = []\n",
    "for w in df_infected.JumlahTarget_1:\n",
    "    x = (w + 1)/countHaveDisease\n",
    "    ls.append(x)\n",
    "print(ls)"
   ]
  },
  {
   "cell_type": "markdown",
   "metadata": {},
   "source": [
    "**MENAMPILKAN JUMLAH DATA ATRIBUT OLD PEAK PADA LABEL TIDAK TERINFEKSI  & TERINFEKSI PENYAKIT JANTUNG**"
   ]
  },
  {
   "cell_type": "code",
   "execution_count": null,
   "metadata": {},
   "outputs": [],
   "source": [
    "target0 = HeartDisease[HeartDisease['Target'] == 0]\n",
    "target_0 = pd.value_counts(target0.Oldpeak)\n",
    "df_notInfected = pd.DataFrame(target_0)\n",
    "df_notInfected = df_notInfected.reset_index()\n",
    "df_notInfected.columns = ['Oldpeak', 'JumlahTarget_0']\n",
    "# print(df_notInfected)"
   ]
  },
  {
   "cell_type": "code",
   "execution_count": null,
   "metadata": {},
   "outputs": [
    {
     "name": "stdout",
     "output_type": "stream",
     "text": [
      "[0.5975609756097561, 0.06585365853658537, 0.046341463414634146, 0.036585365853658534, 0.02926829268292683, 0.026829268292682926, 0.024390243902439025, 0.024390243902439025, 0.02195121951219512, 0.02195121951219512, 0.02195121951219512, 0.01951219512195122, 0.01951219512195122, 0.01707317073170732, 0.00975609756097561, 0.00975609756097561, 0.007317073170731708, 0.007317073170731708, 0.007317073170731708, 0.007317073170731708, 0.007317073170731708, 0.007317073170731708, 0.004878048780487805, 0.004878048780487805, 0.004878048780487805, 0.004878048780487805, 0.004878048780487805, 0.004878048780487805, 0.004878048780487805]\n"
     ]
    }
   ],
   "source": [
    "ls = []\n",
    "for w in df_notInfected.JumlahTarget_0:\n",
    "    x = (w + 1)/countNoDisease\n",
    "    ls.append(x)\n",
    "print(ls)"
   ]
  },
  {
   "cell_type": "code",
   "execution_count": null,
   "metadata": {},
   "outputs": [],
   "source": [
    "target1 = HeartDisease[HeartDisease['Target'] == 1]\n",
    "target_1 = pd.value_counts(target1.Oldpeak)\n",
    "df_infected = pd.DataFrame(target_1)\n",
    "df_infected = df_infected.reset_index()\n",
    "df_infected.columns = ['Oldpeak', 'JumlahTarget_1']\n",
    "# print(df_infected)"
   ]
  },
  {
   "cell_type": "code",
   "execution_count": null,
   "metadata": {},
   "outputs": [
    {
     "name": "stdout",
     "output_type": "stream",
     "text": [
      "[0.5975609756097561, 0.06585365853658537, 0.046341463414634146, 0.036585365853658534, 0.02926829268292683, 0.026829268292682926, 0.024390243902439025, 0.024390243902439025, 0.02195121951219512, 0.02195121951219512, 0.02195121951219512, 0.01951219512195122, 0.01951219512195122, 0.01707317073170732, 0.00975609756097561, 0.00975609756097561, 0.007317073170731708, 0.007317073170731708, 0.007317073170731708, 0.007317073170731708, 0.007317073170731708, 0.007317073170731708, 0.004878048780487805, 0.004878048780487805, 0.004878048780487805, 0.004878048780487805, 0.004878048780487805, 0.004878048780487805, 0.004878048780487805, 0.24606299212598426, 0.12401574803149606, 0.12007874015748031, 0.08464566929133858, 0.051181102362204724, 0.03937007874015748, 0.03346456692913386, 0.02952755905511811, 0.025590551181102362, 0.025590551181102362, 0.017716535433070866, 0.017716535433070866, 0.017716535433070866, 0.015748031496062992, 0.013779527559055118, 0.013779527559055118, 0.011811023622047244, 0.011811023622047244, 0.011811023622047244, 0.011811023622047244, 0.011811023622047244, 0.011811023622047244, 0.00984251968503937, 0.00984251968503937, 0.00984251968503937, 0.007874015748031496, 0.007874015748031496, 0.007874015748031496, 0.007874015748031496, 0.005905511811023622, 0.005905511811023622, 0.005905511811023622, 0.005905511811023622, 0.003937007874015748, 0.003937007874015748, 0.003937007874015748, 0.003937007874015748, 0.003937007874015748, 0.003937007874015748, 0.003937007874015748, 0.003937007874015748, 0.003937007874015748, 0.003937007874015748, 0.003937007874015748, 0.003937007874015748, 0.003937007874015748, 0.003937007874015748, 0.003937007874015748, 0.003937007874015748, 0.003937007874015748]\n"
     ]
    }
   ],
   "source": [
    "AA_ls = []\n",
    "for w in df_infected.JumlahTarget_1:\n",
    "    x = (w + 1)/countHaveDisease\n",
    "    ls.append(x)\n",
    "print(ls)"
   ]
  },
  {
   "cell_type": "code",
   "execution_count": null,
   "metadata": {},
   "outputs": [
    {
     "name": "stdout",
     "output_type": "stream",
     "text": [
      "   STSlope  JumlahTarget_1\n",
      "0        1             381\n",
      "1        2              78\n",
      "2        0              49\n"
     ]
    }
   ],
   "source": [
    "target1 = HeartDisease[HeartDisease['Target'] == 1]\n",
    "target_1 = pd.value_counts(target1.ST_Slope)\n",
    "df_infected = pd.DataFrame(target_1)\n",
    "df_infected = df_infected.reset_index()\n",
    "df_infected.columns = ['STSlope', 'JumlahTarget_1']\n",
    "print(df_infected)"
   ]
  },
  {
   "cell_type": "code",
   "execution_count": null,
   "metadata": {},
   "outputs": [
    {
     "name": "stdout",
     "output_type": "stream",
     "text": [
      "[0.7519685039370079, 0.15551181102362205, 0.0984251968503937]\n"
     ]
    }
   ],
   "source": [
    "STSlope_ls = []\n",
    "for w in df_infected.JumlahTarget_1:\n",
    "    x = (w + 1)/countHaveDisease\n",
    "    STSlope_ls.append(x)\n",
    "print(STSlope_ls)"
   ]
  },
  {
   "cell_type": "code",
   "execution_count": null,
   "metadata": {},
   "outputs": [
    {
     "name": "stdout",
     "output_type": "stream",
     "text": [
      "   STSlope  JumlahTarget_0\n",
      "0        2             317\n",
      "1        1              79\n",
      "2        0              14\n"
     ]
    }
   ],
   "source": [
    "target0 = HeartDisease[HeartDisease['Target'] == 0]\n",
    "target_0 = pd.value_counts(target0.ST_Slope)\n",
    "df_infected = pd.DataFrame(target_0)\n",
    "df_infected = df_infected.reset_index()\n",
    "df_infected.columns = ['STSlope', 'JumlahTarget_0']\n",
    "print(df_infected)"
   ]
  },
  {
   "cell_type": "code",
   "execution_count": null,
   "metadata": {},
   "outputs": [
    {
     "data": {
      "text/html": [
       "<div>\n",
       "<style scoped>\n",
       "    .dataframe tbody tr th:only-of-type {\n",
       "        vertical-align: middle;\n",
       "    }\n",
       "\n",
       "    .dataframe tbody tr th {\n",
       "        vertical-align: top;\n",
       "    }\n",
       "\n",
       "    .dataframe thead th {\n",
       "        text-align: right;\n",
       "    }\n",
       "</style>\n",
       "<table border=\"1\" class=\"dataframe\">\n",
       "  <thead>\n",
       "    <tr style=\"text-align: right;\">\n",
       "      <th></th>\n",
       "      <th>Atribute</th>\n",
       "      <th>Result</th>\n",
       "    </tr>\n",
       "  </thead>\n",
       "  <tbody>\n",
       "    <tr>\n",
       "      <th>0</th>\n",
       "      <td>Age</td>\n",
       "      <td>0.079546+0.000000j</td>\n",
       "    </tr>\n",
       "    <tr>\n",
       "      <th>1</th>\n",
       "      <td>Sex</td>\n",
       "      <td>0.093297+0.000000j</td>\n",
       "    </tr>\n",
       "    <tr>\n",
       "      <th>2</th>\n",
       "      <td>ChestPainType</td>\n",
       "      <td>0.149636-0.000000j</td>\n",
       "    </tr>\n",
       "    <tr>\n",
       "      <th>3</th>\n",
       "      <td>RestingBP</td>\n",
       "      <td>0.011575+0.000000j</td>\n",
       "    </tr>\n",
       "    <tr>\n",
       "      <th>4</th>\n",
       "      <td>Cholesterol</td>\n",
       "      <td>0.054168-0.000000j</td>\n",
       "    </tr>\n",
       "    <tr>\n",
       "      <th>5</th>\n",
       "      <td>FastingBS</td>\n",
       "      <td>0.071445+0.000000j</td>\n",
       "    </tr>\n",
       "    <tr>\n",
       "      <th>6</th>\n",
       "      <td>RestingECG</td>\n",
       "      <td>0.003293+0.000000j</td>\n",
       "    </tr>\n",
       "    <tr>\n",
       "      <th>7</th>\n",
       "      <td>MaxHR</td>\n",
       "      <td>0.160337-0.000000j</td>\n",
       "    </tr>\n",
       "    <tr>\n",
       "      <th>8</th>\n",
       "      <td>ExerciseAngina</td>\n",
       "      <td>0.244315+0.000000j</td>\n",
       "    </tr>\n",
       "    <tr>\n",
       "      <th>9</th>\n",
       "      <td>Oldpeak</td>\n",
       "      <td>0.163176+0.000000j</td>\n",
       "    </tr>\n",
       "    <tr>\n",
       "      <th>10</th>\n",
       "      <td>ST_Slope</td>\n",
       "      <td>0.312225-0.000000j</td>\n",
       "    </tr>\n",
       "  </tbody>\n",
       "</table>\n",
       "</div>"
      ],
      "text/plain": [
       "          Atribute              Result\n",
       "0              Age  0.079546+0.000000j\n",
       "1              Sex  0.093297+0.000000j\n",
       "2    ChestPainType  0.149636-0.000000j\n",
       "3        RestingBP  0.011575+0.000000j\n",
       "4      Cholesterol  0.054168-0.000000j\n",
       "5        FastingBS  0.071445+0.000000j\n",
       "6       RestingECG  0.003293+0.000000j\n",
       "7            MaxHR  0.160337-0.000000j\n",
       "8   ExerciseAngina  0.244315+0.000000j\n",
       "9          Oldpeak  0.163176+0.000000j\n",
       "10        ST_Slope  0.312225-0.000000j"
      ]
     },
     "execution_count": 2517,
     "metadata": {},
     "output_type": "execute_result"
    }
   ],
   "source": [
    "#RSquare\n",
    "rs_dt = pd.DataFrame(result_dt.items(), columns=['Atribute','Result'])\n",
    "rs_dt"
   ]
  },
  {
   "cell_type": "code",
   "execution_count": null,
   "metadata": {},
   "outputs": [],
   "source": []
  },
  {
   "cell_type": "code",
   "execution_count": null,
   "metadata": {},
   "outputs": [],
   "source": [
    "age_ls = []; sex_ls = []; ChestPainType_ls=[]; RestingBP_ls=[]; Cholesterol_ls=[]; STSlope_ls=[]\n",
    "\n",
    "idx = rs_dt['Result'].values\n",
    "\n",
    "age = idx[0]\n",
    "sex = idx[1]\n",
    "ChestPainType = idx[2]\n",
    "RestingBP = idx[3]\n",
    "Cholesterol = idx[4]\n",
    "FastingBS = idx[5]\n",
    "RestingECG = idx[6]\n",
    "MaxHR = idx[7]\n",
    "ExerciseAngina = idx[8]\n",
    "Oldpeak = idx[9]\n",
    "ST_Slope = idx[10]\n",
    "\n",
    "for atx in ls:\n",
    "    hs_age = age * atx\n",
    "    hs_sex = sex * atx\n",
    "    hs_ChestPainType = ChestPainType * atx\n",
    "    hs_RestingBP = RestingBP * atx\n",
    "    hs_Cholesterol = Cholesterol * atx\n",
    "    hs_ST_Slope = ST_Slope * atx\n",
    "\n",
    "    age_ls.append(hs_age)\n",
    "    sex_ls.append(hs_age)\n",
    "    ChestPainType_ls.append(hs_ChestPainType)\n",
    "    RestingBP_ls.append(hs_RestingBP)\n",
    "    Cholesterol_ls.append(hs_Cholesterol)\n",
    "    STSlope_ls.append(hs_ST_Slope)"
   ]
  },
  {
   "cell_type": "code",
   "execution_count": null,
   "metadata": {},
   "outputs": [
    {
     "data": {
      "text/html": [
       "<div>\n",
       "<style scoped>\n",
       "    .dataframe tbody tr th:only-of-type {\n",
       "        vertical-align: middle;\n",
       "    }\n",
       "\n",
       "    .dataframe tbody tr th {\n",
       "        vertical-align: top;\n",
       "    }\n",
       "\n",
       "    .dataframe thead th {\n",
       "        text-align: right;\n",
       "    }\n",
       "</style>\n",
       "<table border=\"1\" class=\"dataframe\">\n",
       "  <thead>\n",
       "    <tr style=\"text-align: right;\">\n",
       "      <th></th>\n",
       "      <th>Age</th>\n",
       "      <th>Sex</th>\n",
       "      <th>ChestPainType</th>\n",
       "      <th>RestingBP</th>\n",
       "      <th>Cholesterol</th>\n",
       "      <th>ST_Slope</th>\n",
       "    </tr>\n",
       "  </thead>\n",
       "  <tbody>\n",
       "    <tr>\n",
       "      <th>0</th>\n",
       "      <td>0.047533+0.000000j</td>\n",
       "      <td>0.047533+0.000000j</td>\n",
       "      <td>0.089416+0.000000j</td>\n",
       "      <td>0.006917+0.000000j</td>\n",
       "      <td>0.089416+0.000000j</td>\n",
       "      <td>0.186573+0.000000j</td>\n",
       "    </tr>\n",
       "    <tr>\n",
       "      <th>1</th>\n",
       "      <td>0.005238+0.000000j</td>\n",
       "      <td>0.005238+0.000000j</td>\n",
       "      <td>0.009854+0.000000j</td>\n",
       "      <td>0.000762+0.000000j</td>\n",
       "      <td>0.009854+0.000000j</td>\n",
       "      <td>0.020561+0.000000j</td>\n",
       "    </tr>\n",
       "    <tr>\n",
       "      <th>2</th>\n",
       "      <td>0.003686+0.000000j</td>\n",
       "      <td>0.003686+0.000000j</td>\n",
       "      <td>0.006934+0.000000j</td>\n",
       "      <td>0.000536+0.000000j</td>\n",
       "      <td>0.006934+0.000000j</td>\n",
       "      <td>0.014469+0.000000j</td>\n",
       "    </tr>\n",
       "    <tr>\n",
       "      <th>3</th>\n",
       "      <td>0.002910+0.000000j</td>\n",
       "      <td>0.002910+0.000000j</td>\n",
       "      <td>0.005474+0.000000j</td>\n",
       "      <td>0.000423+0.000000j</td>\n",
       "      <td>0.005474+0.000000j</td>\n",
       "      <td>0.011423+0.000000j</td>\n",
       "    </tr>\n",
       "    <tr>\n",
       "      <th>4</th>\n",
       "      <td>0.002328+0.000000j</td>\n",
       "      <td>0.002328+0.000000j</td>\n",
       "      <td>0.004380+0.000000j</td>\n",
       "      <td>0.000339+0.000000j</td>\n",
       "      <td>0.004380+0.000000j</td>\n",
       "      <td>0.009138+0.000000j</td>\n",
       "    </tr>\n",
       "    <tr>\n",
       "      <th>5</th>\n",
       "      <td>0.002134+0.000000j</td>\n",
       "      <td>0.002134+0.000000j</td>\n",
       "      <td>0.004015+0.000000j</td>\n",
       "      <td>0.000311+0.000000j</td>\n",
       "      <td>0.004015+0.000000j</td>\n",
       "      <td>0.008377+0.000000j</td>\n",
       "    </tr>\n",
       "    <tr>\n",
       "      <th>6</th>\n",
       "      <td>0.001940+0.000000j</td>\n",
       "      <td>0.001940+0.000000j</td>\n",
       "      <td>0.003650+0.000000j</td>\n",
       "      <td>0.000282+0.000000j</td>\n",
       "      <td>0.003650+0.000000j</td>\n",
       "      <td>0.007615+0.000000j</td>\n",
       "    </tr>\n",
       "    <tr>\n",
       "      <th>7</th>\n",
       "      <td>0.001940+0.000000j</td>\n",
       "      <td>0.001940+0.000000j</td>\n",
       "      <td>0.003650+0.000000j</td>\n",
       "      <td>0.000282+0.000000j</td>\n",
       "      <td>0.003650+0.000000j</td>\n",
       "      <td>0.007615+0.000000j</td>\n",
       "    </tr>\n",
       "    <tr>\n",
       "      <th>8</th>\n",
       "      <td>0.001746+0.000000j</td>\n",
       "      <td>0.001746+0.000000j</td>\n",
       "      <td>0.003285+0.000000j</td>\n",
       "      <td>0.000254+0.000000j</td>\n",
       "      <td>0.003285+0.000000j</td>\n",
       "      <td>0.006854+0.000000j</td>\n",
       "    </tr>\n",
       "    <tr>\n",
       "      <th>9</th>\n",
       "      <td>0.001746+0.000000j</td>\n",
       "      <td>0.001746+0.000000j</td>\n",
       "      <td>0.003285+0.000000j</td>\n",
       "      <td>0.000254+0.000000j</td>\n",
       "      <td>0.003285+0.000000j</td>\n",
       "      <td>0.006854+0.000000j</td>\n",
       "    </tr>\n",
       "    <tr>\n",
       "      <th>10</th>\n",
       "      <td>0.001746+0.000000j</td>\n",
       "      <td>0.001746+0.000000j</td>\n",
       "      <td>0.003285+0.000000j</td>\n",
       "      <td>0.000254+0.000000j</td>\n",
       "      <td>0.003285+0.000000j</td>\n",
       "      <td>0.006854+0.000000j</td>\n",
       "    </tr>\n",
       "  </tbody>\n",
       "</table>\n",
       "</div>"
      ],
      "text/plain": [
       "                   Age                 Sex       ChestPainType  \\\n",
       "0   0.047533+0.000000j  0.047533+0.000000j  0.089416+0.000000j   \n",
       "1   0.005238+0.000000j  0.005238+0.000000j  0.009854+0.000000j   \n",
       "2   0.003686+0.000000j  0.003686+0.000000j  0.006934+0.000000j   \n",
       "3   0.002910+0.000000j  0.002910+0.000000j  0.005474+0.000000j   \n",
       "4   0.002328+0.000000j  0.002328+0.000000j  0.004380+0.000000j   \n",
       "5   0.002134+0.000000j  0.002134+0.000000j  0.004015+0.000000j   \n",
       "6   0.001940+0.000000j  0.001940+0.000000j  0.003650+0.000000j   \n",
       "7   0.001940+0.000000j  0.001940+0.000000j  0.003650+0.000000j   \n",
       "8   0.001746+0.000000j  0.001746+0.000000j  0.003285+0.000000j   \n",
       "9   0.001746+0.000000j  0.001746+0.000000j  0.003285+0.000000j   \n",
       "10  0.001746+0.000000j  0.001746+0.000000j  0.003285+0.000000j   \n",
       "\n",
       "             RestingBP         Cholesterol            ST_Slope  \n",
       "0   0.006917+0.000000j  0.089416+0.000000j  0.186573+0.000000j  \n",
       "1   0.000762+0.000000j  0.009854+0.000000j  0.020561+0.000000j  \n",
       "2   0.000536+0.000000j  0.006934+0.000000j  0.014469+0.000000j  \n",
       "3   0.000423+0.000000j  0.005474+0.000000j  0.011423+0.000000j  \n",
       "4   0.000339+0.000000j  0.004380+0.000000j  0.009138+0.000000j  \n",
       "5   0.000311+0.000000j  0.004015+0.000000j  0.008377+0.000000j  \n",
       "6   0.000282+0.000000j  0.003650+0.000000j  0.007615+0.000000j  \n",
       "7   0.000282+0.000000j  0.003650+0.000000j  0.007615+0.000000j  \n",
       "8   0.000254+0.000000j  0.003285+0.000000j  0.006854+0.000000j  \n",
       "9   0.000254+0.000000j  0.003285+0.000000j  0.006854+0.000000j  \n",
       "10  0.000254+0.000000j  0.003285+0.000000j  0.006854+0.000000j  "
      ]
     },
     "execution_count": 2519,
     "metadata": {},
     "output_type": "execute_result"
    }
   ],
   "source": [
    "data_rs = pd.DataFrame({'Age':age_ls, 'Sex':sex_ls, 'ChestPainType':ChestPainType_ls, 'RestingBP':RestingBP_ls, 'Cholesterol':ChestPainType_ls, 'ST_Slope' :STSlope_ls})\n",
    "\n",
    "data_rs.head(11)"
   ]
  }
 ],
 "metadata": {
  "kernelspec": {
   "display_name": "Python 3.10.x 64-bit (microsoft store)",
   "language": "python",
   "name": "python3"
  },
  "language_info": {
   "codemirror_mode": {
    "name": "ipython",
    "version": 3
   },
   "file_extension": ".py",
   "mimetype": "text/x-python",
   "name": "python",
   "nbconvert_exporter": "python",
   "pygments_lexer": "ipython3",
   "version": "3.10.8"
  },
  "orig_nbformat": 4,
  "vscode": {
   "interpreter": {
    "hash": "4fbc0d947eaf72472870e97615f0a91e96587ef360d5dee6574c34fa65f37b07"
   }
  }
 },
 "nbformat": 4,
 "nbformat_minor": 2
}
